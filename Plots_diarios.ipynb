{
  "nbformat": 4,
  "nbformat_minor": 0,
  "metadata": {
    "colab": {
      "name": "Plots_diarios.ipynb",
      "provenance": [],
      "collapsed_sections": [],
      "authorship_tag": "ABX9TyMCWCRM35MFhdmQH+xiBzE+",
      "include_colab_link": true
    },
    "kernelspec": {
      "name": "python3",
      "display_name": "Python 3"
    }
  },
  "cells": [
    {
      "cell_type": "markdown",
      "metadata": {
        "id": "view-in-github",
        "colab_type": "text"
      },
      "source": [
        "<a href=\"https://colab.research.google.com/github/LuisFTacla/WDW_Attendance_Calculator/blob/main/Plots_diarios.ipynb\" target=\"_parent\"><img src=\"https://colab.research.google.com/assets/colab-badge.svg\" alt=\"Open In Colab\"/></a>"
      ]
    },
    {
      "cell_type": "code",
      "metadata": {
        "id": "Nlnh1MnN2Lyo"
      },
      "source": [
        "# IMPORTANDO BIBLIOTECAS\r\n",
        "import pandas as pd\r\n",
        "import seaborn as sns\r\n",
        "import numpy as np\r\n",
        "import scipy.interpolate as interpolate\r\n",
        "import matplotlib.pyplot as plt\r\n",
        "from datetime import datetime\r\n",
        "from datetime import timedelta\r\n",
        "\r\n",
        "# LENDO URI\r\n",
        "uri_01 = 'https://raw.githubusercontent.com/LuisFTacla/WDW_Attendance_Calculator/main/Datasets/Rides/Splash_Mountain.csv'\r\n",
        "uri_02 = 'https://raw.githubusercontent.com/LuisFTacla/WDW_Attendance_Calculator/main/Datasets/Rides/Pirates_of_Caribbean.csv'\r\n",
        "uri_03 = 'https://raw.githubusercontent.com/LuisFTacla/WDW_Attendance_Calculator/main/Datasets/Rides/Seven_Dwarfs_Mine_Train.csv'\r\n",
        "uri_04 = 'https://raw.githubusercontent.com/LuisFTacla/WDW_Attendance_Calculator/main/Datasets/Rides/Soarin.csv'\r\n",
        "uri_05 = 'https://raw.githubusercontent.com/LuisFTacla/WDW_Attendance_Calculator/main/Datasets/Rides/Spaceship_Earth.csv'\r\n",
        "uri_06 = 'https://raw.githubusercontent.com/LuisFTacla/WDW_Attendance_Calculator/main/Datasets/Rides/Rock_n_Roller_Coaster.csv'\r\n",
        "uri_07 = 'https://raw.githubusercontent.com/LuisFTacla/WDW_Attendance_Calculator/main/Datasets/Rides/Toy_Story_Mania.csv'\r\n",
        "uri_08 = 'https://raw.githubusercontent.com/LuisFTacla/WDW_Attendance_Calculator/main/Datasets/Rides/Slinky_Dog_Dash.csv'\r\n",
        "uri_09 = 'https://raw.githubusercontent.com/LuisFTacla/WDW_Attendance_Calculator/main/Datasets/Rides/Alien_Saucers.csv'\r\n",
        "uri_10 = 'https://raw.githubusercontent.com/LuisFTacla/WDW_Attendance_Calculator/main/Datasets/Rides/Kilimanjaro_Safari.csv'\r\n",
        "uri_11 = 'https://raw.githubusercontent.com/LuisFTacla/WDW_Attendance_Calculator/main/Datasets/Rides/Dinosaur.csv'\r\n",
        "uri_12 = 'https://raw.githubusercontent.com/LuisFTacla/WDW_Attendance_Calculator/main/Datasets/Rides/Expedition_Everest.csv'\r\n",
        "uri_13 = 'https://raw.githubusercontent.com/LuisFTacla/WDW_Attendance_Calculator/main/Datasets/Rides/Avatar_Flight_of_Passage.csv'\r\n",
        "uri_14 = 'https://raw.githubusercontent.com/LuisFTacla/WDW_Attendance_Calculator/main/Datasets/Rides/Navi_River.csv'\r\n",
        "\r\n",
        "# LENDO ARQUIVOS\r\n",
        "mk_01 = pd.read_csv(uri_01)\r\n",
        "mk_02 = pd.read_csv(uri_02)\r\n",
        "mk_03 = pd.read_csv(uri_03)\r\n",
        "ep_01 = pd.read_csv(uri_04)\r\n",
        "ep_02 = pd.read_csv(uri_05)\r\n",
        "hs_01 = pd.read_csv(uri_06)\r\n",
        "hs_02 = pd.read_csv(uri_07)\r\n",
        "hs_03 = pd.read_csv(uri_08)\r\n",
        "hs_04 = pd.read_csv(uri_09)\r\n",
        "ak_01 = pd.read_csv(uri_10)\r\n",
        "ak_02 = pd.read_csv(uri_11)\r\n",
        "ak_03 = pd.read_csv(uri_12)\r\n",
        "ak_04 = pd.read_csv(uri_13)\r\n",
        "ak_05 = pd.read_csv(uri_14)\r\n",
        "\r\n",
        "nome_das_atracoes = {1: 'Splash Mountain',\r\n",
        "                     2: 'Pirates of Caribbean',\r\n",
        "                     3: 'Seven Dwarfs Mine Train',\r\n",
        "                     4: 'Soarin',\r\n",
        "                     5: 'Spaceship Earth',\r\n",
        "                     6: 'Rock n Roller Coaster',\r\n",
        "                     7: 'Slinky Dog Dash',\r\n",
        "                     8: 'Alien Saucers',\r\n",
        "                     9: 'Toy Story Mania',\r\n",
        "                     10: 'Kilimanjaro Safari',\r\n",
        "                     11: 'Dinosaur',\r\n",
        "                     12: 'Expedition Everest',\r\n",
        "                     13: 'Avatar: Flight of Passage',\r\n",
        "                     14: 'Navi River'}\r\n",
        "\r\n",
        "datasets_das_atracoes = {1: mk_01,\r\n",
        "                         2: mk_02,\r\n",
        "                         3: mk_03,\r\n",
        "                         4: ep_01,\r\n",
        "                         5: ep_02,\r\n",
        "                         6: hs_01,\r\n",
        "                         7: hs_02,\r\n",
        "                         8: hs_03,\r\n",
        "                         9: hs_04,\r\n",
        "                         10: ak_01,\r\n",
        "                         11: ak_02,\r\n",
        "                         12: ak_03,\r\n",
        "                         13: ak_04,\r\n",
        "                         14: ak_05}\r\n",
        "\r\n",
        "# CONVERTENDO COLUNA DATA_E_HORA DE STRING PARA DATETIME\r\n",
        "def to_datetime(dados):\r\n",
        "  dados['data_e_hora'] = pd.to_datetime(dados['data_e_hora'])\r\n",
        "  return dados\r\n",
        "\r\n",
        "for i in range(1,15):\r\n",
        "  to_datetime(datasets_das_atracoes[i])"
      ],
      "execution_count": 13,
      "outputs": []
    },
    {
      "cell_type": "code",
      "metadata": {
        "colab": {
          "base_uri": "https://localhost:8080/",
          "height": 406
        },
        "id": "LCln6StaI-Pv",
        "outputId": "46cd5456-aed9-4151-8c1d-e7f6ec2da047"
      },
      "source": [
        "hs_01"
      ],
      "execution_count": 14,
      "outputs": [
        {
          "output_type": "execute_result",
          "data": {
            "text/html": [
              "<div>\n",
              "<style scoped>\n",
              "    .dataframe tbody tr th:only-of-type {\n",
              "        vertical-align: middle;\n",
              "    }\n",
              "\n",
              "    .dataframe tbody tr th {\n",
              "        vertical-align: top;\n",
              "    }\n",
              "\n",
              "    .dataframe thead th {\n",
              "        text-align: right;\n",
              "    }\n",
              "</style>\n",
              "<table border=\"1\" class=\"dataframe\">\n",
              "  <thead>\n",
              "    <tr style=\"text-align: right;\">\n",
              "      <th></th>\n",
              "      <th>data_e_hora</th>\n",
              "      <th>tempo_de_fila</th>\n",
              "    </tr>\n",
              "  </thead>\n",
              "  <tbody>\n",
              "    <tr>\n",
              "      <th>0</th>\n",
              "      <td>2015-01-01 00:00:00</td>\n",
              "      <td>0.0</td>\n",
              "    </tr>\n",
              "    <tr>\n",
              "      <th>1</th>\n",
              "      <td>2015-01-01 00:05:00</td>\n",
              "      <td>0.0</td>\n",
              "    </tr>\n",
              "    <tr>\n",
              "      <th>2</th>\n",
              "      <td>2015-01-01 00:10:00</td>\n",
              "      <td>0.0</td>\n",
              "    </tr>\n",
              "    <tr>\n",
              "      <th>3</th>\n",
              "      <td>2015-01-01 00:15:00</td>\n",
              "      <td>0.0</td>\n",
              "    </tr>\n",
              "    <tr>\n",
              "      <th>4</th>\n",
              "      <td>2015-01-01 00:20:00</td>\n",
              "      <td>0.0</td>\n",
              "    </tr>\n",
              "    <tr>\n",
              "      <th>...</th>\n",
              "      <td>...</td>\n",
              "      <td>...</td>\n",
              "    </tr>\n",
              "    <tr>\n",
              "      <th>525883</th>\n",
              "      <td>2019-12-31 23:35:00</td>\n",
              "      <td>23.0</td>\n",
              "    </tr>\n",
              "    <tr>\n",
              "      <th>525884</th>\n",
              "      <td>2019-12-31 23:40:00</td>\n",
              "      <td>12.0</td>\n",
              "    </tr>\n",
              "    <tr>\n",
              "      <th>525885</th>\n",
              "      <td>2019-12-31 23:45:00</td>\n",
              "      <td>0.0</td>\n",
              "    </tr>\n",
              "    <tr>\n",
              "      <th>525886</th>\n",
              "      <td>2019-12-31 23:50:00</td>\n",
              "      <td>0.0</td>\n",
              "    </tr>\n",
              "    <tr>\n",
              "      <th>525887</th>\n",
              "      <td>2019-12-31 23:55:00</td>\n",
              "      <td>0.0</td>\n",
              "    </tr>\n",
              "  </tbody>\n",
              "</table>\n",
              "<p>525888 rows × 2 columns</p>\n",
              "</div>"
            ],
            "text/plain": [
              "               data_e_hora  tempo_de_fila\n",
              "0      2015-01-01 00:00:00            0.0\n",
              "1      2015-01-01 00:05:00            0.0\n",
              "2      2015-01-01 00:10:00            0.0\n",
              "3      2015-01-01 00:15:00            0.0\n",
              "4      2015-01-01 00:20:00            0.0\n",
              "...                    ...            ...\n",
              "525883 2019-12-31 23:35:00           23.0\n",
              "525884 2019-12-31 23:40:00           12.0\n",
              "525885 2019-12-31 23:45:00            0.0\n",
              "525886 2019-12-31 23:50:00            0.0\n",
              "525887 2019-12-31 23:55:00            0.0\n",
              "\n",
              "[525888 rows x 2 columns]"
            ]
          },
          "metadata": {
            "tags": []
          },
          "execution_count": 14
        }
      ]
    },
    {
      "cell_type": "code",
      "metadata": {
        "colab": {
          "base_uri": "https://localhost:8080/"
        },
        "id": "lpR6szjGI-HP",
        "outputId": "feae58e7-3550-4ee8-b72b-27403d4e2a9a"
      },
      "source": [
        "type(hs_01['data_e_hora'][4])"
      ],
      "execution_count": 15,
      "outputs": [
        {
          "output_type": "execute_result",
          "data": {
            "text/plain": [
              "pandas._libs.tslibs.timestamps.Timestamp"
            ]
          },
          "metadata": {
            "tags": []
          },
          "execution_count": 15
        }
      ]
    },
    {
      "cell_type": "code",
      "metadata": {
        "id": "CDKXR5XJuQu5"
      },
      "source": [
        "    days = int(input('Quandos dias gostaria de analisar?'))\r\n",
        "    for days in range(0, days):\r\n",
        "      ride = int(input('Escolha uma atração para analizar'))\r\n",
        "      print('Você escolheu a atração {}'.format(nome_das_atracoes[ride]))\r\n",
        "      print('Escolha uma data entre 01/01/2015 e 31/12/2019: ')\r\n",
        "      d = int(input('Dia: '))\r\n",
        "      m = int(input('Mês: '))\r\n",
        "      y = int(input('Ano: '))\r\n",
        "      data_escolhida = datetime(y, m, d)\r\n",
        "      dia_seguinte = data_escolhida + timedelta(days=1)\r\n",
        "      fig = plt.figure(figsize = (15,8))\r\n",
        "      eixo = fig.add_axes([0, 0, 1, 1])\r\n",
        "      eixo.plot(datasets_das_atracoes_3[ride]['data_e_hora'], datasets_das_atracoes_3[ride]['tempo_de_fila'], color = 'g')\r\n",
        "\r\n",
        "      eixo.set_xlim(data_escolhida,dia_seguinte)\r\n",
        "      eixo.set_title('{} - {}/{}/{}'.format(nome_das_atracoes[ride] , d, m, y), fontsize = 25)\r\n",
        "      eixo.set_ylabel('Tempo de fila (minutos)', fontsize = 20)\r\n",
        "      eixo.set_xlabel('Horário', fontsize = 20)\r\n",
        "      eixo.legend(['tempo_de_fila'], loc = 'upper right', fontsize = 15)"
      ],
      "execution_count": null,
      "outputs": []
    }
  ]
}