{
  "nbformat": 4,
  "nbformat_minor": 0,
  "metadata": {
    "colab": {
      "name": "Calculadora_WDW.ipynb",
      "provenance": [],
      "collapsed_sections": [],
      "authorship_tag": "ABX9TyPABEJaVWQmgaL0fDE4GZxI",
      "include_colab_link": true
    },
    "kernelspec": {
      "name": "python3",
      "display_name": "Python 3"
    }
  },
  "cells": [
    {
      "cell_type": "markdown",
      "metadata": {
        "id": "view-in-github",
        "colab_type": "text"
      },
      "source": [
        "<a href=\"https://colab.research.google.com/github/LuisFTacla/WDW_Attendance_Calculator/blob/main/Calculadora_WDW.ipynb\" target=\"_parent\"><img src=\"https://colab.research.google.com/assets/colab-badge.svg\" alt=\"Open In Colab\"/></a>"
      ]
    },
    {
      "cell_type": "markdown",
      "metadata": {
        "id": "-dpRkjlBzHup"
      },
      "source": [
        "# <font color=green>IMPORTANDO BIBLIOTECAS</font>\r\n",
        "***"
      ]
    },
    {
      "cell_type": "code",
      "metadata": {
        "id": "5NRTSARZ_Kgc"
      },
      "source": [
        "import pandas as pd\r\n",
        "import seaborn as sns\r\n",
        "import numpy as np\r\n",
        "import scipy.interpolate as interpolate\r\n",
        "import matplotlib.pyplot as plt\r\n",
        "from datetime import datetime\r\n",
        "from datetime import timedelta"
      ],
      "execution_count": null,
      "outputs": []
    },
    {
      "cell_type": "markdown",
      "metadata": {
        "id": "_e9qkwy2xGJ_"
      },
      "source": [
        "# <font color=green>ANALISANDO TODAS AS ATRAÇÕES DISPONÍVEIS</font>\r\n",
        "***"
      ]
    },
    {
      "cell_type": "markdown",
      "metadata": {
        "id": "yeB7P_CVaNdx"
      },
      "source": [
        "## <font color=green>Lendo URI</font>\r\n",
        "***"
      ]
    },
    {
      "cell_type": "code",
      "metadata": {
        "id": "c2NBq3yaaX__"
      },
      "source": [
        "uri_01 = 'https://raw.githubusercontent.com/LuisFTacla/WDW_Attendance_Calculator/main/Datasets/Rides/Raw_Data/splash_mountain.csv'\r\n",
        "uri_02 = 'https://raw.githubusercontent.com/LuisFTacla/WDW_Attendance_Calculator/main/Datasets/Rides/Raw_Data/pirates_of_caribbean.csv'\r\n",
        "uri_03 = 'https://raw.githubusercontent.com/LuisFTacla/WDW_Attendance_Calculator/main/Datasets/Rides/Raw_Data/7_dwarfs_train.csv'\r\n",
        "uri_04 = 'https://raw.githubusercontent.com/LuisFTacla/WDW_Attendance_Calculator/main/Datasets/Rides/Raw_Data/soarin.csv'\r\n",
        "uri_05 = 'https://raw.githubusercontent.com/LuisFTacla/WDW_Attendance_Calculator/main/Datasets/Rides/Raw_Data/spaceship_earth.csv'\r\n",
        "uri_06 = 'https://raw.githubusercontent.com/LuisFTacla/WDW_Attendance_Calculator/main/Datasets/Rides/Raw_Data/rock_n_rollercoaster.csv'\r\n",
        "uri_07 = 'https://raw.githubusercontent.com/LuisFTacla/WDW_Attendance_Calculator/main/Datasets/Rides/Raw_Data/toy_story_mania.csv'\r\n",
        "uri_08 = 'https://raw.githubusercontent.com/LuisFTacla/WDW_Attendance_Calculator/main/Datasets/Rides/Raw_Data/slinky_dog.csv'\r\n",
        "uri_09 = 'https://raw.githubusercontent.com/LuisFTacla/WDW_Attendance_Calculator/main/Datasets/Rides/Raw_Data/alien_saucers.csv'\r\n",
        "uri_10 = 'https://raw.githubusercontent.com/LuisFTacla/WDW_Attendance_Calculator/main/Datasets/Rides/Raw_Data/kilimanjaro_safaris.csv'\r\n",
        "uri_11 = 'https://raw.githubusercontent.com/LuisFTacla/WDW_Attendance_Calculator/main/Datasets/Rides/Raw_Data/dinosaur.csv'\r\n",
        "uri_12 = 'https://raw.githubusercontent.com/LuisFTacla/WDW_Attendance_Calculator/main/Datasets/Rides/Raw_Data/expedition_everest.csv'\r\n",
        "uri_13 = 'https://raw.githubusercontent.com/LuisFTacla/WDW_Attendance_Calculator/main/Datasets/Rides/Raw_Data/flight_of_passage.csv'\r\n",
        "uri_14 = 'https://raw.githubusercontent.com/LuisFTacla/WDW_Attendance_Calculator/main/Datasets/Rides/Raw_Data/navi_river.csv'\r\n",
        "uri_15 = 'https://raw.githubusercontent.com/LuisFTacla/WDW_Attendance_Calculator/main/Datasets/metadata.csv'"
      ],
      "execution_count": null,
      "outputs": []
    },
    {
      "cell_type": "markdown",
      "metadata": {
        "id": "BrZ4d9L_xZFn"
      },
      "source": [
        "## <font color=green>Lendo os arquivos .csv</font>\r\n",
        "***"
      ]
    },
    {
      "cell_type": "code",
      "metadata": {
        "id": "nVGiLfhDoA80"
      },
      "source": [
        "mk_01 = pd.read_csv(uri_01)\r\n",
        "mk_02 = pd.read_csv(uri_02)\r\n",
        "mk_03 = pd.read_csv(uri_03)\r\n",
        "\r\n",
        "ep_01 = pd.read_csv(uri_04)\r\n",
        "ep_02 = pd.read_csv(uri_05)\r\n",
        "\r\n",
        "hs_01 = pd.read_csv(uri_06)\r\n",
        "hs_02 = pd.read_csv(uri_07)\r\n",
        "hs_03 = pd.read_csv(uri_08)\r\n",
        "hs_04 = pd.read_csv(uri_09)\r\n",
        "\r\n",
        "ak_01 = pd.read_csv(uri_10)\r\n",
        "ak_02 = pd.read_csv(uri_11)\r\n",
        "ak_03 = pd.read_csv(uri_12)\r\n",
        "ak_04 = pd.read_csv(uri_13)\r\n",
        "ak_05 = pd.read_csv(uri_14)\r\n",
        "\r\n",
        "metadata = pd.read_csv(uri_15)"
      ],
      "execution_count": null,
      "outputs": []
    },
    {
      "cell_type": "markdown",
      "metadata": {
        "id": "RbUiflw0yXq7"
      },
      "source": [
        "## <font color=green>Dicionário com os nomes das atrações</font>\r\n",
        "***"
      ]
    },
    {
      "cell_type": "code",
      "metadata": {
        "id": "Uxs5PPHH7H6R"
      },
      "source": [
        "nome_das_atracoes = {1: 'Splash Mountain',\r\n",
        "                     2: 'Pirates of Caribbean',\r\n",
        "                     3: 'Seven Dwarfs Mine Train',\r\n",
        "                     4: 'Soarin',\r\n",
        "                     5: 'Spaceship Earth',\r\n",
        "                     6: 'Rock n Roller Coaster',\r\n",
        "                     7: 'Slinky Dog Dash',\r\n",
        "                     8: 'Alien Saucers',\r\n",
        "                     9: 'Toy Story Mania',\r\n",
        "                     10: 'Kilimanjaro Safari',\r\n",
        "                     11: 'Dinosaur',\r\n",
        "                     12: 'Expedition Everest',\r\n",
        "                     13: 'Avatar: Flight of Passage',\r\n",
        "                     14: 'Navi River'}"
      ],
      "execution_count": null,
      "outputs": []
    },
    {
      "cell_type": "markdown",
      "metadata": {
        "id": "MCBVFWz7ydcj"
      },
      "source": [
        "## <font color=green>Dicionário com os dataframes das atrações</font>\r\n",
        "***"
      ]
    },
    {
      "cell_type": "code",
      "metadata": {
        "id": "v6ey8JT8clO0"
      },
      "source": [
        "datasets_das_atracoes = {1: mk_01,\r\n",
        "                         2: mk_02,\r\n",
        "                         3: mk_03,\r\n",
        "                         4: ep_01,\r\n",
        "                         5: ep_02,\r\n",
        "                         6: hs_01,\r\n",
        "                         7: hs_02,\r\n",
        "                         8: hs_03,\r\n",
        "                         9: hs_04,\r\n",
        "                         10: ak_01,\r\n",
        "                         11: ak_02,\r\n",
        "                         12: ak_03,\r\n",
        "                         13: ak_04,\r\n",
        "                         14: ak_05}"
      ],
      "execution_count": null,
      "outputs": []
    },
    {
      "cell_type": "code",
      "metadata": {
        "colab": {
          "base_uri": "https://localhost:8080/",
          "height": 406
        },
        "id": "h88mZU-pe7fR",
        "outputId": "dc3d086a-cd6e-44b8-bd39-a663896e07f0"
      },
      "source": [
        "datasets_das_atracoes[6]"
      ],
      "execution_count": null,
      "outputs": [
        {
          "output_type": "execute_result",
          "data": {
            "text/html": [
              "<div>\n",
              "<style scoped>\n",
              "    .dataframe tbody tr th:only-of-type {\n",
              "        vertical-align: middle;\n",
              "    }\n",
              "\n",
              "    .dataframe tbody tr th {\n",
              "        vertical-align: top;\n",
              "    }\n",
              "\n",
              "    .dataframe thead th {\n",
              "        text-align: right;\n",
              "    }\n",
              "</style>\n",
              "<table border=\"1\" class=\"dataframe\">\n",
              "  <thead>\n",
              "    <tr style=\"text-align: right;\">\n",
              "      <th></th>\n",
              "      <th>date</th>\n",
              "      <th>datetime</th>\n",
              "      <th>SACTMIN</th>\n",
              "      <th>SPOSTMIN</th>\n",
              "    </tr>\n",
              "  </thead>\n",
              "  <tbody>\n",
              "    <tr>\n",
              "      <th>0</th>\n",
              "      <td>01/01/2015</td>\n",
              "      <td>2015-01-01 07:46:22</td>\n",
              "      <td>NaN</td>\n",
              "      <td>5.0</td>\n",
              "    </tr>\n",
              "    <tr>\n",
              "      <th>1</th>\n",
              "      <td>01/01/2015</td>\n",
              "      <td>2015-01-01 07:53:19</td>\n",
              "      <td>NaN</td>\n",
              "      <td>5.0</td>\n",
              "    </tr>\n",
              "    <tr>\n",
              "      <th>2</th>\n",
              "      <td>01/01/2015</td>\n",
              "      <td>2015-01-01 08:04:29</td>\n",
              "      <td>NaN</td>\n",
              "      <td>20.0</td>\n",
              "    </tr>\n",
              "    <tr>\n",
              "      <th>3</th>\n",
              "      <td>01/01/2015</td>\n",
              "      <td>2015-01-01 08:11:19</td>\n",
              "      <td>NaN</td>\n",
              "      <td>20.0</td>\n",
              "    </tr>\n",
              "    <tr>\n",
              "      <th>4</th>\n",
              "      <td>01/01/2015</td>\n",
              "      <td>2015-01-01 08:16:29</td>\n",
              "      <td>NaN</td>\n",
              "      <td>20.0</td>\n",
              "    </tr>\n",
              "    <tr>\n",
              "      <th>...</th>\n",
              "      <td>...</td>\n",
              "      <td>...</td>\n",
              "      <td>...</td>\n",
              "      <td>...</td>\n",
              "    </tr>\n",
              "    <tr>\n",
              "      <th>214841</th>\n",
              "      <td>12/31/2019</td>\n",
              "      <td>2019-12-31 23:30:02</td>\n",
              "      <td>NaN</td>\n",
              "      <td>35.0</td>\n",
              "    </tr>\n",
              "    <tr>\n",
              "      <th>214842</th>\n",
              "      <td>12/31/2019</td>\n",
              "      <td>2019-12-31 23:37:02</td>\n",
              "      <td>NaN</td>\n",
              "      <td>-999.0</td>\n",
              "    </tr>\n",
              "    <tr>\n",
              "      <th>214843</th>\n",
              "      <td>12/31/2019</td>\n",
              "      <td>2019-12-31 23:44:02</td>\n",
              "      <td>NaN</td>\n",
              "      <td>-999.0</td>\n",
              "    </tr>\n",
              "    <tr>\n",
              "      <th>214844</th>\n",
              "      <td>12/31/2019</td>\n",
              "      <td>2019-12-31 23:51:02</td>\n",
              "      <td>NaN</td>\n",
              "      <td>-999.0</td>\n",
              "    </tr>\n",
              "    <tr>\n",
              "      <th>214845</th>\n",
              "      <td>12/31/2019</td>\n",
              "      <td>2019-12-31 23:58:02</td>\n",
              "      <td>NaN</td>\n",
              "      <td>-999.0</td>\n",
              "    </tr>\n",
              "  </tbody>\n",
              "</table>\n",
              "<p>214846 rows × 4 columns</p>\n",
              "</div>"
            ],
            "text/plain": [
              "              date             datetime  SACTMIN  SPOSTMIN\n",
              "0       01/01/2015  2015-01-01 07:46:22      NaN       5.0\n",
              "1       01/01/2015  2015-01-01 07:53:19      NaN       5.0\n",
              "2       01/01/2015  2015-01-01 08:04:29      NaN      20.0\n",
              "3       01/01/2015  2015-01-01 08:11:19      NaN      20.0\n",
              "4       01/01/2015  2015-01-01 08:16:29      NaN      20.0\n",
              "...            ...                  ...      ...       ...\n",
              "214841  12/31/2019  2019-12-31 23:30:02      NaN      35.0\n",
              "214842  12/31/2019  2019-12-31 23:37:02      NaN    -999.0\n",
              "214843  12/31/2019  2019-12-31 23:44:02      NaN    -999.0\n",
              "214844  12/31/2019  2019-12-31 23:51:02      NaN    -999.0\n",
              "214845  12/31/2019  2019-12-31 23:58:02      NaN    -999.0\n",
              "\n",
              "[214846 rows x 4 columns]"
            ]
          },
          "metadata": {
            "tags": []
          },
          "execution_count": 6
        }
      ]
    },
    {
      "cell_type": "markdown",
      "metadata": {
        "id": "2Z1effaYfJtH"
      },
      "source": [
        "## <font color=green>Tratamento dos dados brutos</font>\r\n",
        "***"
      ]
    },
    {
      "cell_type": "markdown",
      "metadata": {
        "id": "muyjnTAeyw-3"
      },
      "source": [
        "### <font color=green>Funções</font>\r\n",
        "***"
      ]
    },
    {
      "cell_type": "code",
      "metadata": {
        "id": "rVibI-BqfMz_"
      },
      "source": [
        "def remove_sactmin(dados):\r\n",
        "  dados.drop(columns = ['SACTMIN'], inplace = True)\r\n",
        "  return dados\r\n",
        "\r\n",
        "def remove_dados_ausentes(dados):\r\n",
        "  dados.dropna(inplace= True)\r\n",
        "  return dados\r\n",
        "\r\n",
        "def to_datetime(dados):\r\n",
        "  dados['data_e_hora'] = pd.to_datetime(dados['datetime'])\r\n",
        "  return dados\r\n",
        "\r\n",
        "def cria_coluna_tempo_de_fila(dados):\r\n",
        "  dados['tempo_de_fila'] = dados['SPOSTMIN']\r\n",
        "  return dados\r\n",
        "\r\n",
        "def remove_colunas(dados):\r\n",
        "  dados.drop(columns = ['SPOSTMIN', 'date', 'datetime'], inplace = True)\r\n",
        "  return dados\r\n",
        "\r\n",
        "def reset_index(dados):\r\n",
        "  dados.reset_index(drop = True, inplace = True)\r\n",
        "  return dados\r\n",
        "\r\n",
        "def coluna_apagar(dados):\r\n",
        "  dados['apagar'] = 0\r\n",
        "  return dados\r\n",
        "\r\n",
        "def tratamento_dados(dados):\r\n",
        "  remove_sactmin(dados)\r\n",
        "  remove_dados_ausentes(dados)\r\n",
        "  to_datetime(dados)\r\n",
        "  cria_coluna_tempo_de_fila(dados)\r\n",
        "  remove_colunas(dados)\r\n",
        "  reset_index(dados)\r\n",
        "  coluna_apagar(dados)"
      ],
      "execution_count": null,
      "outputs": []
    },
    {
      "cell_type": "markdown",
      "metadata": {
        "id": "9rB4bAAJy1fY"
      },
      "source": [
        "### <font color=green>Executando as funções para cada atração</font>\r\n",
        "***"
      ]
    },
    {
      "cell_type": "code",
      "metadata": {
        "id": "n2pp79wbj7mr"
      },
      "source": [
        "for i in range(1,15):\r\n",
        "  tratamento_dados(datasets_das_atracoes[i])"
      ],
      "execution_count": null,
      "outputs": []
    },
    {
      "cell_type": "markdown",
      "metadata": {
        "id": "kNJzbZLvy9JC"
      },
      "source": [
        "### <font color=green>Filtrando e removendo tempos de fila menores que zero (-999.0)</font>\r\n",
        "***"
      ]
    },
    {
      "cell_type": "code",
      "metadata": {
        "id": "j_J35lRyw-Ui"
      },
      "source": [
        "for i in range(1,15):\r\n",
        "  filtro = datasets_das_atracoes[i].tempo_de_fila >= 0\r\n",
        "  datasets_das_atracoes[i] = datasets_das_atracoes[i][filtro]"
      ],
      "execution_count": null,
      "outputs": []
    },
    {
      "cell_type": "markdown",
      "metadata": {
        "id": "QwbvkLnczREV"
      },
      "source": [
        "## <font color=green>Criando os DataFrames 'base' com os horários normalizados de 5 em 5 minutos</font>\r\n",
        "***"
      ]
    },
    {
      "cell_type": "code",
      "metadata": {
        "id": "9tjVooMykM6T"
      },
      "source": [
        "bases = {}\r\n",
        "instantes_5_em_5 = pd.date_range(start='1/1/2015', periods = 525888, freq = '5min')\r\n",
        "for i in range(1,15): \r\n",
        "  bases[i] = pd.DataFrame(index = range(0,525888), columns = ['data_e_hora', 'tempo_de_fila', 'apagar'])\r\n",
        "  bases[i]['data_e_hora'] = instantes_5_em_5\r\n",
        "  bases[i]['tempo_de_fila'] = 0\r\n",
        "  bases[i]['apagar'] = 0\r\n",
        "  bases[i]['observacao'] = bases[i].index\r\n",
        "  bases[i].set_index('observacao', inplace = True)"
      ],
      "execution_count": null,
      "outputs": []
    },
    {
      "cell_type": "markdown",
      "metadata": {
        "id": "Hc3L50vfzZSu"
      },
      "source": [
        "## <font color=green>Unindo o DataFrame 'base' aos DataFrames das atrações</font>\r\n",
        "***"
      ]
    },
    {
      "cell_type": "code",
      "metadata": {
        "id": "f8ePslthgNIK"
      },
      "source": [
        "datasets_das_atracoes_2 = {}"
      ],
      "execution_count": null,
      "outputs": []
    },
    {
      "cell_type": "code",
      "metadata": {
        "id": "Bo2R0iXblU9r"
      },
      "source": [
        "for i in range(1,15):\r\n",
        "  datasets_das_atracoes_2[i] = bases[i].append(datasets_das_atracoes[i])"
      ],
      "execution_count": null,
      "outputs": []
    },
    {
      "cell_type": "markdown",
      "metadata": {
        "id": "cW_HKME2zkaJ"
      },
      "source": [
        "### <font color=green>Ordenando de acordo com o instante (data/hora)</font>\r\n",
        "***"
      ]
    },
    {
      "cell_type": "code",
      "metadata": {
        "id": "oLdmeOdOl1rC"
      },
      "source": [
        "for i in range(1,15):\r\n",
        "  datasets_das_atracoes_2[i].sort_values(by=['data_e_hora'], inplace = True)"
      ],
      "execution_count": null,
      "outputs": []
    },
    {
      "cell_type": "markdown",
      "metadata": {
        "id": "YtgrD_DIztUK"
      },
      "source": [
        "### <font color=green>Resetando índice</font>\r\n",
        "***"
      ]
    },
    {
      "cell_type": "code",
      "metadata": {
        "id": "9CGbzIGzl1kZ"
      },
      "source": [
        "for i in range(1,15):\r\n",
        "  reset_index(datasets_das_atracoes_2[i])"
      ],
      "execution_count": null,
      "outputs": []
    },
    {
      "cell_type": "markdown",
      "metadata": {
        "id": "ha_uHwPMz41M"
      },
      "source": [
        "### <font color=green>Selecionando linhas a serem apagadas</font>\r\n",
        "***"
      ]
    },
    {
      "cell_type": "code",
      "metadata": {
        "colab": {
          "base_uri": "https://localhost:8080/"
        },
        "id": "Mr8U9ufbgNDE",
        "outputId": "d638c1fd-75b3-4d80-f889-628eeb701d02"
      },
      "source": [
        "for j in range(1,15):\r\n",
        "  dados_e_base_df = datasets_das_atracoes_2[j]\r\n",
        "  for i in range(0,len(dados_e_base_df)):\r\n",
        "    if i != 0 and i != 1 and i != (len(dados_e_base_df) - 1) and i != (len(dados_e_base_df) - 2):\r\n",
        "      if (dados_e_base_df.tempo_de_fila[i] == 0):\r\n",
        "        c1 = (dados_e_base_df.tempo_de_fila[i + 1] != 0)\r\n",
        "        c2 = (dados_e_base_df.tempo_de_fila[i - 1] != 0)\r\n",
        "        c3 = (dados_e_base_df.tempo_de_fila[i + 2] != 0)\r\n",
        "        c4 = (dados_e_base_df.tempo_de_fila[i - 2] != 0)\r\n",
        "        if c1 or c2 or c3 or c4:\r\n",
        "          dados_e_base_df.apagar[i] = 1\r\n",
        "    datasets_das_atracoes_2[j] = dados_e_base_df\r\n",
        "  print('Opa! Terminei a leitura da atração {}!'.format(nome_das_atracoes[j]))\r\n",
        "print('Pronto!! Terminei toda a leitura!!')"
      ],
      "execution_count": null,
      "outputs": [
        {
          "output_type": "stream",
          "text": [
            "/usr/local/lib/python3.7/dist-packages/ipykernel_launcher.py:11: SettingWithCopyWarning: \n",
            "A value is trying to be set on a copy of a slice from a DataFrame\n",
            "\n",
            "See the caveats in the documentation: https://pandas.pydata.org/pandas-docs/stable/user_guide/indexing.html#returning-a-view-versus-a-copy\n",
            "  # This is added back by InteractiveShellApp.init_path()\n"
          ],
          "name": "stderr"
        },
        {
          "output_type": "stream",
          "text": [
            "Opa! Terminei a leitura da atração Splash Mountain!\n",
            "Opa! Terminei a leitura da atração Pirates of Caribbean!\n",
            "Opa! Terminei a leitura da atração Seven Dwarfs Mine Train!\n",
            "Opa! Terminei a leitura da atração Soarin!\n",
            "Opa! Terminei a leitura da atração Spaceship Earth!\n",
            "Opa! Terminei a leitura da atração Rock n Roller Coaster!\n",
            "Opa! Terminei a leitura da atração Slinky Dog Dash!\n",
            "Opa! Terminei a leitura da atração Alien Saucers!\n",
            "Opa! Terminei a leitura da atração Toy Story Mania!\n",
            "Opa! Terminei a leitura da atração Kilimanjaro Safari!\n",
            "Opa! Terminei a leitura da atração Dinosaur!\n",
            "Opa! Terminei a leitura da atração Expedition Everest!\n",
            "Opa! Terminei a leitura da atração Avatar: Flight of Passage!\n",
            "Opa! Terminei a leitura da atração Navi River!\n",
            "Pronto!! Terminei toda a leitura!!\n"
          ],
          "name": "stdout"
        }
      ]
    },
    {
      "cell_type": "markdown",
      "metadata": {
        "id": "GGzHMwf70uN3"
      },
      "source": [
        "### <font color=green>Apagando linhas de acordo com as condições dadas anteriormente</font>\r\n",
        "***"
      ]
    },
    {
      "cell_type": "code",
      "metadata": {
        "id": "llEklOSDtiNy"
      },
      "source": [
        "for i in range(1,15):\r\n",
        "  filtro2 = datasets_das_atracoes_2[i].apagar == 0\r\n",
        "  datasets_das_atracoes_2[i] = datasets_das_atracoes_2[i][filtro2]"
      ],
      "execution_count": null,
      "outputs": []
    },
    {
      "cell_type": "markdown",
      "metadata": {
        "id": "uWvWUT4Z08yf"
      },
      "source": [
        "## <font color=green>Interpolação dos tempos de fila</font>\r\n",
        "***"
      ]
    },
    {
      "cell_type": "code",
      "metadata": {
        "id": "C6rYj1LL1YJ_"
      },
      "source": [
        "datasets_das_atracoes_3 = {}"
      ],
      "execution_count": null,
      "outputs": []
    },
    {
      "cell_type": "code",
      "metadata": {
        "id": "FjkQ05ZI08ym"
      },
      "source": [
        "for i in range(1,15):\r\n",
        "\r\n",
        "  datasets_das_atracoes_3[i] = bases[i]\r\n",
        "\r\n",
        "  X_interp = bases[i].data_e_hora\r\n",
        "  X = datasets_das_atracoes_2[i].data_e_hora\r\n",
        "  Y = datasets_das_atracoes_2[i].tempo_de_fila\r\n",
        "  \r\n",
        "  Y_interp = np.interp(X_interp, X, Y)\r\n",
        "\r\n",
        "  datasets_das_atracoes_3[i].tempo_de_fila = np.around(Y_interp, decimals = 0)"
      ],
      "execution_count": null,
      "outputs": []
    },
    {
      "cell_type": "markdown",
      "metadata": {
        "id": "4WVxuJOhiCVA"
      },
      "source": [
        "## <font color=green>GRÁFICO DO TEMPO DE FILA EM 'N' DATAS SELECIONADAS PELO USUÁRIO</font>\r\n",
        "***"
      ]
    },
    {
      "cell_type": "code",
      "metadata": {
        "id": "p4J3RLAV4WNU",
        "colab": {
          "base_uri": "https://localhost:8080/"
        },
        "outputId": "3604cc10-d2d6-48d0-8403-00e4e337ce65"
      },
      "source": [
        "days = int(input('Quandos dias gostaria de analisar?'))\r\n",
        "for days in range(0, days):\r\n",
        "  ride = int(input('Escolha uma atração para analizar'))\r\n",
        "  print('Você escolheu a atração {}'.format(nome_das_atracoes[ride]))\r\n",
        "  print('Escolha uma data entre 01/01/2015 e 31/12/2019: ')\r\n",
        "  d = int(input('Dia: '))\r\n",
        "  m = int(input('Mês: '))\r\n",
        "  y = int(input('Ano: '))\r\n",
        "  data_escolhida = datetime(y, m, d)\r\n",
        "  dia_seguinte = data_escolhida + timedelta(days=1)\r\n",
        "  fig = plt.figure(figsize = (15,8))\r\n",
        "  eixo = fig.add_axes([0, 0, 1, 1])\r\n",
        "  eixo.plot(datasets_das_atracoes_3[ride]['data_e_hora'], datasets_das_atracoes_3[ride]['tempo_de_fila'], color = 'g')\r\n",
        "\r\n",
        "  eixo.set_xlim(data_escolhida,dia_seguinte)\r\n",
        "  eixo.set_title('{} - {}/{}/{}'.format(nome_das_atracoes[ride] , d, m, y), fontsize = 25)\r\n",
        "  eixo.set_ylabel('Tempo de fila (minutos)', fontsize = 20)\r\n",
        "  eixo.set_xlabel('Horário', fontsize = 20)\r\n",
        "  eixo.legend(['tempo_de_fila'], loc = 'upper right', fontsize = 15)"
      ],
      "execution_count": null,
      "outputs": [
        {
          "output_type": "stream",
          "text": [
            "Quandos dias gostaria de analisar?0\n"
          ],
          "name": "stdout"
        }
      ]
    },
    {
      "cell_type": "markdown",
      "metadata": {
        "id": "Lw7FsbrciLPo"
      },
      "source": [
        "## <font color=green>GRÁFICOS DA VARIAÇÃO DOS TEMPOS MÁXIMOS E MÉDIOS DIÁRIOS AO LONGO DOS ANOS</font>\r\n",
        "***"
      ]
    },
    {
      "cell_type": "markdown",
      "metadata": {
        "id": "DNa6TqD-39U5"
      },
      "source": [
        "### <font color=green>Criando os DataFrame com as datas, os tempos máximos e médios diários</font>\r\n",
        "***"
      ]
    },
    {
      "cell_type": "code",
      "metadata": {
        "id": "JWn2AQhNiVna"
      },
      "source": [
        "tempos_diarios_maximos = {}\r\n",
        "tempos_diarios_medios = {}\r\n",
        "tempos_diarios_8 = {}\r\n",
        "\r\n",
        "for i in range(1,15):\r\n",
        "  tempos_diarios_maximos[i] = datasets_das_atracoes_3[i].groupby(datasets_das_atracoes_3[i]['data_e_hora'].dt.date)['tempo_de_fila'].max()\r\n",
        "  tempos_diarios_medios[i] = datasets_das_atracoes_3[i].groupby(datasets_das_atracoes_3[i]['data_e_hora'].dt.date)['tempo_de_fila'].mean()\r\n",
        "  tempos_diarios_8[i] = datasets_das_atracoes_3[i].groupby(datasets_das_atracoes_3[i]['data_e_hora'].dt.date)['tempo_de_fila'].quantile(0.8)"
      ],
      "execution_count": null,
      "outputs": []
    },
    {
      "cell_type": "code",
      "metadata": {
        "id": "h3_OTOPM4f6J"
      },
      "source": [
        "datas = pd.date_range(start='1/1/2015', periods = 1826, freq = 'd')\r\n",
        "index_days = range(0,1826)"
      ],
      "execution_count": null,
      "outputs": []
    },
    {
      "cell_type": "code",
      "metadata": {
        "colab": {
          "base_uri": "https://localhost:8080/"
        },
        "id": "GDB-mNAz4JQM",
        "outputId": "3e379386-df87-4465-a84f-38041fb30a91"
      },
      "source": [
        "tempos_diarios_maximos_df = {}\r\n",
        "tempos_diarios_medios_df = {}\r\n",
        "tempos_diarios_8_df = {}\r\n",
        "\r\n",
        "for i in range(1,15):\r\n",
        "  tempos_diarios_maximos_df[i] = pd.DataFrame(index = index_days, columns = ['data', 'tempo_maximo'])\r\n",
        "  tempos_diarios_maximos_df[i]['data'] = datas\r\n",
        "  for j in index_days:\r\n",
        "    tempos_diarios_maximos_df[i].tempo_maximo[j] = tempos_diarios_maximos[i][j]\r\n",
        "\r\n",
        "for i in range(1,15):\r\n",
        "  tempos_diarios_medios_df[i] = pd.DataFrame(index = index_days, columns = ['data', 'tempo_medio'])\r\n",
        "  tempos_diarios_medios_df[i]['data'] = datas\r\n",
        "  for j in index_days:\r\n",
        "    tempos_diarios_medios_df[i].tempo_medio[j] = np.around(tempos_diarios_medios[i][j], decimals = 0)\r\n",
        "\r\n",
        "for i in range(1,15):\r\n",
        "  tempos_diarios_8_df[i] = pd.DataFrame(index = index_days, columns = ['data', 'tempo_percentil_80'])\r\n",
        "  tempos_diarios_8_df[i]['data'] = datas\r\n",
        "  for j in index_days:\r\n",
        "    tempos_diarios_8_df[i].tempo_percentil_80[j] = np.around(tempos_diarios_8[i][j], decimals = 0)"
      ],
      "execution_count": null,
      "outputs": [
        {
          "output_type": "stream",
          "text": [
            "/usr/local/lib/python3.7/dist-packages/ipykernel_launcher.py:9: SettingWithCopyWarning: \n",
            "A value is trying to be set on a copy of a slice from a DataFrame\n",
            "\n",
            "See the caveats in the documentation: https://pandas.pydata.org/pandas-docs/stable/user_guide/indexing.html#returning-a-view-versus-a-copy\n",
            "  if __name__ == '__main__':\n",
            "/usr/local/lib/python3.7/dist-packages/ipykernel_launcher.py:15: SettingWithCopyWarning: \n",
            "A value is trying to be set on a copy of a slice from a DataFrame\n",
            "\n",
            "See the caveats in the documentation: https://pandas.pydata.org/pandas-docs/stable/user_guide/indexing.html#returning-a-view-versus-a-copy\n",
            "  from ipykernel import kernelapp as app\n",
            "/usr/local/lib/python3.7/dist-packages/ipykernel_launcher.py:21: SettingWithCopyWarning: \n",
            "A value is trying to be set on a copy of a slice from a DataFrame\n",
            "\n",
            "See the caveats in the documentation: https://pandas.pydata.org/pandas-docs/stable/user_guide/indexing.html#returning-a-view-versus-a-copy\n"
          ],
          "name": "stderr"
        }
      ]
    },
    {
      "cell_type": "markdown",
      "metadata": {
        "id": "g4HRHlM36TMP"
      },
      "source": [
        "### <font color=green>Plotando gráficos com a variação anual dos tempos máximos e médios de fila</font>\r\n",
        "***"
      ]
    },
    {
      "cell_type": "code",
      "metadata": {
        "colab": {
          "base_uri": "https://localhost:8080/"
        },
        "id": "meq5rF206D9S",
        "outputId": "f415a783-53c9-4051-905e-88e9bb709e1a"
      },
      "source": [
        "\r\n",
        "j = int(input('Quantas gráficos anuais você quer visualizar?'))\r\n",
        "for j in range(1,(j+1)):\r\n",
        "  i = int(input('Escolha uma atração: '))\r\n",
        "  y = int(input('Escolha um ano de 2015 a 2019: '))\r\n",
        "  \r\n",
        "  data_inicial = datetime(y, 1, 1)\r\n",
        "  data_final = data_inicial + timedelta(days=365)\r\n",
        "  fig = plt.figure(figsize = (25,8))\r\n",
        "  eixo = fig.add_axes([0, 0, 1, 1])\r\n",
        "  eixo.plot(tempos_diarios_maximos_df[i]['data'], tempos_diarios_maximos_df[i]['tempo_maximo'], color = 'black')\r\n",
        "  eixo.plot(tempos_diarios_medios_df[i]['data'], tempos_diarios_medios_df[i]['tempo_medio'], color = 'darkblue')\r\n",
        "  eixo.plot(tempos_diarios_8_df[i]['data'], tempos_diarios_8_df[i]['tempo_percentil_80'], color = 'g')\r\n",
        "\r\n",
        "  eixo.set_xlim(data_inicial,data_final)\r\n",
        "  eixo.set_title('Tempos máximo, médio e percentil 80 diário de fila da atração {} ao longo de {}'.format(nome_das_atracoes[i], y), fontsize = 25)\r\n",
        "  eixo.set_ylabel('Tempo máximo de fila (minutos)', fontsize = 20)\r\n",
        "  eixo.set_xlabel('Data', fontsize = 20)\r\n",
        "  eixo.legend([ 'tempo_maximo', 'tempo_medio', 'tempo_percentil_80'], loc = 'upper right', fontsize = 15)\r\n",
        "  eixo.grid(True)"
      ],
      "execution_count": null,
      "outputs": [
        {
          "output_type": "stream",
          "text": [
            "Quantas gráficos anuais você quer visualizar?0\n"
          ],
          "name": "stdout"
        }
      ]
    },
    {
      "cell_type": "markdown",
      "metadata": {
        "id": "XR2SUSShBgsn"
      },
      "source": [
        "Conclusões: O tempo máximo não é uma boa métrica pois traduz o comportamento de um dia inteiro a um momento pontual, desconsiderando o resto do dia.\r\n",
        "\r\n",
        "O tempo médio pode representar o comportamento do dia, uma vez que leva em consideração todos os dados de cada dia.\r\n",
        "\r\n",
        "O tempo do percentil 80 pode representar o comportamento do dia pois é baseado numa distribuição ordenada dos valores de cada dia.  Ou seja, para o pico observado em Fevereiro de 2019 na atração 6 (Rock'n Roller Coaster), em 80% das observações, o tempo de fila era de até um pouco mais de 175 minutos."
      ]
    },
    {
      "cell_type": "markdown",
      "metadata": {
        "id": "0Rpfpooz2gqI"
      },
      "source": [
        "## <font color=green>Separando os dados por parque</font>\r\n",
        "***"
      ]
    },
    {
      "cell_type": "code",
      "metadata": {
        "id": "sIP7av-K657-",
        "colab": {
          "base_uri": "https://localhost:8080/"
        },
        "outputId": "6ddf45a1-dae1-409b-9df9-3bcaef332075"
      },
      "source": [
        "MagicKingdom = pd.DataFrame(index = range(0,525888), \r\n",
        "                            columns = ['data_e_hora',\r\n",
        "                                       nome_das_atracoes[1],\r\n",
        "                                       nome_das_atracoes[2],\r\n",
        "                                       nome_das_atracoes[3]])\r\n",
        "MagicKingdom.data_e_hora = instantes_5_em_5\r\n",
        "MagicKingdom['Splash Mountain'][:] = datasets_das_atracoes_3[1].tempo_de_fila[:]\r\n",
        "MagicKingdom['Pirates of Caribbean'][:] = datasets_das_atracoes_3[2].tempo_de_fila[:]\r\n",
        "MagicKingdom['Seven Dwarfs Mine Train'][:] = datasets_das_atracoes_3[3].tempo_de_fila[:]\r\n",
        "\r\n",
        "\r\n",
        "Epcot = pd.DataFrame(index = range(0,525888), \r\n",
        "                            columns = ['data_e_hora',\r\n",
        "                                       nome_das_atracoes[4],\r\n",
        "                                       nome_das_atracoes[5]])\r\n",
        "Epcot.data_e_hora = instantes_5_em_5\r\n",
        "Epcot['Soarin'][:] = datasets_das_atracoes_3[4].tempo_de_fila[:]\r\n",
        "Epcot['Spaceship Earth'][:] = datasets_das_atracoes_3[5].tempo_de_fila[:]\r\n",
        "\r\n",
        "\r\n",
        "HollywoodStudios = pd.DataFrame(index = range(0,525888), \r\n",
        "                            columns = ['data_e_hora',\r\n",
        "                                       nome_das_atracoes[6],\r\n",
        "                                       nome_das_atracoes[7],\r\n",
        "                                       nome_das_atracoes[8],\r\n",
        "                                       nome_das_atracoes[9]])\r\n",
        "HollywoodStudios.data_e_hora = instantes_5_em_5\r\n",
        "HollywoodStudios['Rock n Roller Coaster'][:] = datasets_das_atracoes_3[6].tempo_de_fila[:]\r\n",
        "HollywoodStudios['Slinky Dog Dash'][:] = datasets_das_atracoes_3[7].tempo_de_fila[:]\r\n",
        "HollywoodStudios['Alien Saucers'][:] = datasets_das_atracoes_3[8].tempo_de_fila[:]\r\n",
        "HollywoodStudios['Toy Story Mania'][:] = datasets_das_atracoes_3[9].tempo_de_fila[:]\r\n",
        "\r\n",
        "\r\n",
        "AnimalKingdom = pd.DataFrame(index = range(0,525888), \r\n",
        "                            columns = ['data_e_hora',\r\n",
        "                                       nome_das_atracoes[10],\r\n",
        "                                       nome_das_atracoes[11],\r\n",
        "                                       nome_das_atracoes[12],\r\n",
        "                                       nome_das_atracoes[13],\r\n",
        "                                       nome_das_atracoes[14]])\r\n",
        "AnimalKingdom.data_e_hora = instantes_5_em_5\r\n",
        "AnimalKingdom['Kilimanjaro Safari'][:] = datasets_das_atracoes_3[6].tempo_de_fila[:]\r\n",
        "AnimalKingdom['Dinosaur'][:] = datasets_das_atracoes_3[6].tempo_de_fila[:]\r\n",
        "AnimalKingdom['Expedition Everest'][:] = datasets_das_atracoes_3[6].tempo_de_fila[:]\r\n",
        "AnimalKingdom['Avatar: Flight of Passage'][:] = datasets_das_atracoes_3[6].tempo_de_fila[:]\r\n",
        "AnimalKingdom['Navi River'][:] = datasets_das_atracoes_3[6].tempo_de_fila[:]\r\n"
      ],
      "execution_count": null,
      "outputs": [
        {
          "output_type": "stream",
          "text": [
            "/usr/local/lib/python3.7/dist-packages/ipykernel_launcher.py:7: SettingWithCopyWarning: \n",
            "A value is trying to be set on a copy of a slice from a DataFrame\n",
            "\n",
            "See the caveats in the documentation: https://pandas.pydata.org/pandas-docs/stable/user_guide/indexing.html#returning-a-view-versus-a-copy\n",
            "  import sys\n",
            "/usr/local/lib/python3.7/dist-packages/ipykernel_launcher.py:8: SettingWithCopyWarning: \n",
            "A value is trying to be set on a copy of a slice from a DataFrame\n",
            "\n",
            "See the caveats in the documentation: https://pandas.pydata.org/pandas-docs/stable/user_guide/indexing.html#returning-a-view-versus-a-copy\n",
            "  \n",
            "/usr/local/lib/python3.7/dist-packages/ipykernel_launcher.py:9: SettingWithCopyWarning: \n",
            "A value is trying to be set on a copy of a slice from a DataFrame\n",
            "\n",
            "See the caveats in the documentation: https://pandas.pydata.org/pandas-docs/stable/user_guide/indexing.html#returning-a-view-versus-a-copy\n",
            "  if __name__ == '__main__':\n",
            "/usr/local/lib/python3.7/dist-packages/ipykernel_launcher.py:17: SettingWithCopyWarning: \n",
            "A value is trying to be set on a copy of a slice from a DataFrame\n",
            "\n",
            "See the caveats in the documentation: https://pandas.pydata.org/pandas-docs/stable/user_guide/indexing.html#returning-a-view-versus-a-copy\n",
            "/usr/local/lib/python3.7/dist-packages/ipykernel_launcher.py:18: SettingWithCopyWarning: \n",
            "A value is trying to be set on a copy of a slice from a DataFrame\n",
            "\n",
            "See the caveats in the documentation: https://pandas.pydata.org/pandas-docs/stable/user_guide/indexing.html#returning-a-view-versus-a-copy\n",
            "/usr/local/lib/python3.7/dist-packages/ipykernel_launcher.py:28: SettingWithCopyWarning: \n",
            "A value is trying to be set on a copy of a slice from a DataFrame\n",
            "\n",
            "See the caveats in the documentation: https://pandas.pydata.org/pandas-docs/stable/user_guide/indexing.html#returning-a-view-versus-a-copy\n",
            "/usr/local/lib/python3.7/dist-packages/ipykernel_launcher.py:29: SettingWithCopyWarning: \n",
            "A value is trying to be set on a copy of a slice from a DataFrame\n",
            "\n",
            "See the caveats in the documentation: https://pandas.pydata.org/pandas-docs/stable/user_guide/indexing.html#returning-a-view-versus-a-copy\n",
            "/usr/local/lib/python3.7/dist-packages/ipykernel_launcher.py:30: SettingWithCopyWarning: \n",
            "A value is trying to be set on a copy of a slice from a DataFrame\n",
            "\n",
            "See the caveats in the documentation: https://pandas.pydata.org/pandas-docs/stable/user_guide/indexing.html#returning-a-view-versus-a-copy\n",
            "/usr/local/lib/python3.7/dist-packages/ipykernel_launcher.py:31: SettingWithCopyWarning: \n",
            "A value is trying to be set on a copy of a slice from a DataFrame\n",
            "\n",
            "See the caveats in the documentation: https://pandas.pydata.org/pandas-docs/stable/user_guide/indexing.html#returning-a-view-versus-a-copy\n",
            "/usr/local/lib/python3.7/dist-packages/ipykernel_launcher.py:42: SettingWithCopyWarning: \n",
            "A value is trying to be set on a copy of a slice from a DataFrame\n",
            "\n",
            "See the caveats in the documentation: https://pandas.pydata.org/pandas-docs/stable/user_guide/indexing.html#returning-a-view-versus-a-copy\n",
            "/usr/local/lib/python3.7/dist-packages/ipykernel_launcher.py:43: SettingWithCopyWarning: \n",
            "A value is trying to be set on a copy of a slice from a DataFrame\n",
            "\n",
            "See the caveats in the documentation: https://pandas.pydata.org/pandas-docs/stable/user_guide/indexing.html#returning-a-view-versus-a-copy\n",
            "/usr/local/lib/python3.7/dist-packages/ipykernel_launcher.py:44: SettingWithCopyWarning: \n",
            "A value is trying to be set on a copy of a slice from a DataFrame\n",
            "\n",
            "See the caveats in the documentation: https://pandas.pydata.org/pandas-docs/stable/user_guide/indexing.html#returning-a-view-versus-a-copy\n",
            "/usr/local/lib/python3.7/dist-packages/ipykernel_launcher.py:45: SettingWithCopyWarning: \n",
            "A value is trying to be set on a copy of a slice from a DataFrame\n",
            "\n",
            "See the caveats in the documentation: https://pandas.pydata.org/pandas-docs/stable/user_guide/indexing.html#returning-a-view-versus-a-copy\n",
            "/usr/local/lib/python3.7/dist-packages/ipykernel_launcher.py:46: SettingWithCopyWarning: \n",
            "A value is trying to be set on a copy of a slice from a DataFrame\n",
            "\n",
            "See the caveats in the documentation: https://pandas.pydata.org/pandas-docs/stable/user_guide/indexing.html#returning-a-view-versus-a-copy\n"
          ],
          "name": "stderr"
        }
      ]
    },
    {
      "cell_type": "code",
      "metadata": {
        "colab": {
          "base_uri": "https://localhost:8080/",
          "height": 406
        },
        "id": "z0srXTQ7Mn-2",
        "outputId": "5df9fd36-c43b-4777-8e9b-b198d60e9fb5"
      },
      "source": [
        "MagicKingdom"
      ],
      "execution_count": null,
      "outputs": [
        {
          "output_type": "execute_result",
          "data": {
            "text/html": [
              "<div>\n",
              "<style scoped>\n",
              "    .dataframe tbody tr th:only-of-type {\n",
              "        vertical-align: middle;\n",
              "    }\n",
              "\n",
              "    .dataframe tbody tr th {\n",
              "        vertical-align: top;\n",
              "    }\n",
              "\n",
              "    .dataframe thead th {\n",
              "        text-align: right;\n",
              "    }\n",
              "</style>\n",
              "<table border=\"1\" class=\"dataframe\">\n",
              "  <thead>\n",
              "    <tr style=\"text-align: right;\">\n",
              "      <th></th>\n",
              "      <th>data_e_hora</th>\n",
              "      <th>Splash Mountain</th>\n",
              "      <th>Pirates of Caribbean</th>\n",
              "      <th>Seven Dwarfs Mine Train</th>\n",
              "    </tr>\n",
              "  </thead>\n",
              "  <tbody>\n",
              "    <tr>\n",
              "      <th>0</th>\n",
              "      <td>2015-01-01 00:00:00</td>\n",
              "      <td>0.0</td>\n",
              "      <td>0.0</td>\n",
              "      <td>0.0</td>\n",
              "    </tr>\n",
              "    <tr>\n",
              "      <th>1</th>\n",
              "      <td>2015-01-01 00:05:00</td>\n",
              "      <td>0.0</td>\n",
              "      <td>0.0</td>\n",
              "      <td>0.0</td>\n",
              "    </tr>\n",
              "    <tr>\n",
              "      <th>2</th>\n",
              "      <td>2015-01-01 00:10:00</td>\n",
              "      <td>0.0</td>\n",
              "      <td>0.0</td>\n",
              "      <td>0.0</td>\n",
              "    </tr>\n",
              "    <tr>\n",
              "      <th>3</th>\n",
              "      <td>2015-01-01 00:15:00</td>\n",
              "      <td>0.0</td>\n",
              "      <td>0.0</td>\n",
              "      <td>0.0</td>\n",
              "    </tr>\n",
              "    <tr>\n",
              "      <th>4</th>\n",
              "      <td>2015-01-01 00:20:00</td>\n",
              "      <td>0.0</td>\n",
              "      <td>0.0</td>\n",
              "      <td>0.0</td>\n",
              "    </tr>\n",
              "    <tr>\n",
              "      <th>...</th>\n",
              "      <td>...</td>\n",
              "      <td>...</td>\n",
              "      <td>...</td>\n",
              "      <td>...</td>\n",
              "    </tr>\n",
              "    <tr>\n",
              "      <th>525883</th>\n",
              "      <td>2019-12-31 23:35:00</td>\n",
              "      <td>5.0</td>\n",
              "      <td>10.0</td>\n",
              "      <td>34.0</td>\n",
              "    </tr>\n",
              "    <tr>\n",
              "      <th>525884</th>\n",
              "      <td>2019-12-31 23:40:00</td>\n",
              "      <td>5.0</td>\n",
              "      <td>10.0</td>\n",
              "      <td>31.0</td>\n",
              "    </tr>\n",
              "    <tr>\n",
              "      <th>525885</th>\n",
              "      <td>2019-12-31 23:45:00</td>\n",
              "      <td>5.0</td>\n",
              "      <td>10.0</td>\n",
              "      <td>30.0</td>\n",
              "    </tr>\n",
              "    <tr>\n",
              "      <th>525886</th>\n",
              "      <td>2019-12-31 23:50:00</td>\n",
              "      <td>5.0</td>\n",
              "      <td>10.0</td>\n",
              "      <td>30.0</td>\n",
              "    </tr>\n",
              "    <tr>\n",
              "      <th>525887</th>\n",
              "      <td>2019-12-31 23:55:00</td>\n",
              "      <td>5.0</td>\n",
              "      <td>10.0</td>\n",
              "      <td>30.0</td>\n",
              "    </tr>\n",
              "  </tbody>\n",
              "</table>\n",
              "<p>525888 rows × 4 columns</p>\n",
              "</div>"
            ],
            "text/plain": [
              "               data_e_hora  ...  Seven Dwarfs Mine Train\n",
              "0      2015-01-01 00:00:00  ...                      0.0\n",
              "1      2015-01-01 00:05:00  ...                      0.0\n",
              "2      2015-01-01 00:10:00  ...                      0.0\n",
              "3      2015-01-01 00:15:00  ...                      0.0\n",
              "4      2015-01-01 00:20:00  ...                      0.0\n",
              "...                    ...  ...                      ...\n",
              "525883 2019-12-31 23:35:00  ...                     34.0\n",
              "525884 2019-12-31 23:40:00  ...                     31.0\n",
              "525885 2019-12-31 23:45:00  ...                     30.0\n",
              "525886 2019-12-31 23:50:00  ...                     30.0\n",
              "525887 2019-12-31 23:55:00  ...                     30.0\n",
              "\n",
              "[525888 rows x 4 columns]"
            ]
          },
          "metadata": {
            "tags": []
          },
          "execution_count": 25
        }
      ]
    },
    {
      "cell_type": "code",
      "metadata": {
        "colab": {
          "base_uri": "https://localhost:8080/",
          "height": 406
        },
        "id": "rHOI4YXKNOrF",
        "outputId": "0ff1059b-d0b2-4f1a-d074-c3b65e29c697"
      },
      "source": [
        "Epcot"
      ],
      "execution_count": null,
      "outputs": [
        {
          "output_type": "execute_result",
          "data": {
            "text/html": [
              "<div>\n",
              "<style scoped>\n",
              "    .dataframe tbody tr th:only-of-type {\n",
              "        vertical-align: middle;\n",
              "    }\n",
              "\n",
              "    .dataframe tbody tr th {\n",
              "        vertical-align: top;\n",
              "    }\n",
              "\n",
              "    .dataframe thead th {\n",
              "        text-align: right;\n",
              "    }\n",
              "</style>\n",
              "<table border=\"1\" class=\"dataframe\">\n",
              "  <thead>\n",
              "    <tr style=\"text-align: right;\">\n",
              "      <th></th>\n",
              "      <th>data_e_hora</th>\n",
              "      <th>Soarin</th>\n",
              "      <th>Spaceship Earth</th>\n",
              "    </tr>\n",
              "  </thead>\n",
              "  <tbody>\n",
              "    <tr>\n",
              "      <th>0</th>\n",
              "      <td>2015-01-01 00:00:00</td>\n",
              "      <td>0.0</td>\n",
              "      <td>0.0</td>\n",
              "    </tr>\n",
              "    <tr>\n",
              "      <th>1</th>\n",
              "      <td>2015-01-01 00:05:00</td>\n",
              "      <td>0.0</td>\n",
              "      <td>0.0</td>\n",
              "    </tr>\n",
              "    <tr>\n",
              "      <th>2</th>\n",
              "      <td>2015-01-01 00:10:00</td>\n",
              "      <td>0.0</td>\n",
              "      <td>0.0</td>\n",
              "    </tr>\n",
              "    <tr>\n",
              "      <th>3</th>\n",
              "      <td>2015-01-01 00:15:00</td>\n",
              "      <td>0.0</td>\n",
              "      <td>0.0</td>\n",
              "    </tr>\n",
              "    <tr>\n",
              "      <th>4</th>\n",
              "      <td>2015-01-01 00:20:00</td>\n",
              "      <td>0.0</td>\n",
              "      <td>0.0</td>\n",
              "    </tr>\n",
              "    <tr>\n",
              "      <th>...</th>\n",
              "      <td>...</td>\n",
              "      <td>...</td>\n",
              "      <td>...</td>\n",
              "    </tr>\n",
              "    <tr>\n",
              "      <th>525883</th>\n",
              "      <td>2019-12-31 23:35:00</td>\n",
              "      <td>35.0</td>\n",
              "      <td>25.0</td>\n",
              "    </tr>\n",
              "    <tr>\n",
              "      <th>525884</th>\n",
              "      <td>2019-12-31 23:40:00</td>\n",
              "      <td>35.0</td>\n",
              "      <td>25.0</td>\n",
              "    </tr>\n",
              "    <tr>\n",
              "      <th>525885</th>\n",
              "      <td>2019-12-31 23:45:00</td>\n",
              "      <td>35.0</td>\n",
              "      <td>25.0</td>\n",
              "    </tr>\n",
              "    <tr>\n",
              "      <th>525886</th>\n",
              "      <td>2019-12-31 23:50:00</td>\n",
              "      <td>35.0</td>\n",
              "      <td>25.0</td>\n",
              "    </tr>\n",
              "    <tr>\n",
              "      <th>525887</th>\n",
              "      <td>2019-12-31 23:55:00</td>\n",
              "      <td>35.0</td>\n",
              "      <td>25.0</td>\n",
              "    </tr>\n",
              "  </tbody>\n",
              "</table>\n",
              "<p>525888 rows × 3 columns</p>\n",
              "</div>"
            ],
            "text/plain": [
              "               data_e_hora  Soarin  Spaceship Earth\n",
              "0      2015-01-01 00:00:00     0.0              0.0\n",
              "1      2015-01-01 00:05:00     0.0              0.0\n",
              "2      2015-01-01 00:10:00     0.0              0.0\n",
              "3      2015-01-01 00:15:00     0.0              0.0\n",
              "4      2015-01-01 00:20:00     0.0              0.0\n",
              "...                    ...     ...              ...\n",
              "525883 2019-12-31 23:35:00    35.0             25.0\n",
              "525884 2019-12-31 23:40:00    35.0             25.0\n",
              "525885 2019-12-31 23:45:00    35.0             25.0\n",
              "525886 2019-12-31 23:50:00    35.0             25.0\n",
              "525887 2019-12-31 23:55:00    35.0             25.0\n",
              "\n",
              "[525888 rows x 3 columns]"
            ]
          },
          "metadata": {
            "tags": []
          },
          "execution_count": 26
        }
      ]
    },
    {
      "cell_type": "code",
      "metadata": {
        "colab": {
          "base_uri": "https://localhost:8080/",
          "height": 406
        },
        "id": "U1cUM57ZOFaE",
        "outputId": "aed9d0b5-d616-41ab-81e1-45fa2f0cd771"
      },
      "source": [
        "HollywoodStudios"
      ],
      "execution_count": null,
      "outputs": [
        {
          "output_type": "execute_result",
          "data": {
            "text/html": [
              "<div>\n",
              "<style scoped>\n",
              "    .dataframe tbody tr th:only-of-type {\n",
              "        vertical-align: middle;\n",
              "    }\n",
              "\n",
              "    .dataframe tbody tr th {\n",
              "        vertical-align: top;\n",
              "    }\n",
              "\n",
              "    .dataframe thead th {\n",
              "        text-align: right;\n",
              "    }\n",
              "</style>\n",
              "<table border=\"1\" class=\"dataframe\">\n",
              "  <thead>\n",
              "    <tr style=\"text-align: right;\">\n",
              "      <th></th>\n",
              "      <th>data_e_hora</th>\n",
              "      <th>Rock n Roller Coaster</th>\n",
              "      <th>Slinky Dog Dash</th>\n",
              "      <th>Alien Saucers</th>\n",
              "      <th>Toy Story Mania</th>\n",
              "    </tr>\n",
              "  </thead>\n",
              "  <tbody>\n",
              "    <tr>\n",
              "      <th>0</th>\n",
              "      <td>2015-01-01 00:00:00</td>\n",
              "      <td>0.0</td>\n",
              "      <td>0.0</td>\n",
              "      <td>0.0</td>\n",
              "      <td>0.0</td>\n",
              "    </tr>\n",
              "    <tr>\n",
              "      <th>1</th>\n",
              "      <td>2015-01-01 00:05:00</td>\n",
              "      <td>0.0</td>\n",
              "      <td>0.0</td>\n",
              "      <td>0.0</td>\n",
              "      <td>0.0</td>\n",
              "    </tr>\n",
              "    <tr>\n",
              "      <th>2</th>\n",
              "      <td>2015-01-01 00:10:00</td>\n",
              "      <td>0.0</td>\n",
              "      <td>0.0</td>\n",
              "      <td>0.0</td>\n",
              "      <td>0.0</td>\n",
              "    </tr>\n",
              "    <tr>\n",
              "      <th>3</th>\n",
              "      <td>2015-01-01 00:15:00</td>\n",
              "      <td>0.0</td>\n",
              "      <td>0.0</td>\n",
              "      <td>0.0</td>\n",
              "      <td>0.0</td>\n",
              "    </tr>\n",
              "    <tr>\n",
              "      <th>4</th>\n",
              "      <td>2015-01-01 00:20:00</td>\n",
              "      <td>0.0</td>\n",
              "      <td>0.0</td>\n",
              "      <td>0.0</td>\n",
              "      <td>0.0</td>\n",
              "    </tr>\n",
              "    <tr>\n",
              "      <th>...</th>\n",
              "      <td>...</td>\n",
              "      <td>...</td>\n",
              "      <td>...</td>\n",
              "      <td>...</td>\n",
              "      <td>...</td>\n",
              "    </tr>\n",
              "    <tr>\n",
              "      <th>525883</th>\n",
              "      <td>2019-12-31 23:35:00</td>\n",
              "      <td>23.0</td>\n",
              "      <td>20.0</td>\n",
              "      <td>10.0</td>\n",
              "      <td>16.0</td>\n",
              "    </tr>\n",
              "    <tr>\n",
              "      <th>525884</th>\n",
              "      <td>2019-12-31 23:40:00</td>\n",
              "      <td>12.0</td>\n",
              "      <td>10.0</td>\n",
              "      <td>10.0</td>\n",
              "      <td>15.0</td>\n",
              "    </tr>\n",
              "    <tr>\n",
              "      <th>525885</th>\n",
              "      <td>2019-12-31 23:45:00</td>\n",
              "      <td>0.0</td>\n",
              "      <td>0.0</td>\n",
              "      <td>10.0</td>\n",
              "      <td>14.0</td>\n",
              "    </tr>\n",
              "    <tr>\n",
              "      <th>525886</th>\n",
              "      <td>2019-12-31 23:50:00</td>\n",
              "      <td>0.0</td>\n",
              "      <td>0.0</td>\n",
              "      <td>10.0</td>\n",
              "      <td>6.0</td>\n",
              "    </tr>\n",
              "    <tr>\n",
              "      <th>525887</th>\n",
              "      <td>2019-12-31 23:55:00</td>\n",
              "      <td>0.0</td>\n",
              "      <td>0.0</td>\n",
              "      <td>0.0</td>\n",
              "      <td>0.0</td>\n",
              "    </tr>\n",
              "  </tbody>\n",
              "</table>\n",
              "<p>525888 rows × 5 columns</p>\n",
              "</div>"
            ],
            "text/plain": [
              "               data_e_hora  ...  Toy Story Mania\n",
              "0      2015-01-01 00:00:00  ...              0.0\n",
              "1      2015-01-01 00:05:00  ...              0.0\n",
              "2      2015-01-01 00:10:00  ...              0.0\n",
              "3      2015-01-01 00:15:00  ...              0.0\n",
              "4      2015-01-01 00:20:00  ...              0.0\n",
              "...                    ...  ...              ...\n",
              "525883 2019-12-31 23:35:00  ...             16.0\n",
              "525884 2019-12-31 23:40:00  ...             15.0\n",
              "525885 2019-12-31 23:45:00  ...             14.0\n",
              "525886 2019-12-31 23:50:00  ...              6.0\n",
              "525887 2019-12-31 23:55:00  ...              0.0\n",
              "\n",
              "[525888 rows x 5 columns]"
            ]
          },
          "metadata": {
            "tags": []
          },
          "execution_count": 27
        }
      ]
    },
    {
      "cell_type": "code",
      "metadata": {
        "colab": {
          "base_uri": "https://localhost:8080/",
          "height": 406
        },
        "id": "3GeEt1MiTZJJ",
        "outputId": "23455ebd-04d0-4bf6-8818-5813f08c61c9"
      },
      "source": [
        "AnimalKingdom"
      ],
      "execution_count": null,
      "outputs": [
        {
          "output_type": "execute_result",
          "data": {
            "text/html": [
              "<div>\n",
              "<style scoped>\n",
              "    .dataframe tbody tr th:only-of-type {\n",
              "        vertical-align: middle;\n",
              "    }\n",
              "\n",
              "    .dataframe tbody tr th {\n",
              "        vertical-align: top;\n",
              "    }\n",
              "\n",
              "    .dataframe thead th {\n",
              "        text-align: right;\n",
              "    }\n",
              "</style>\n",
              "<table border=\"1\" class=\"dataframe\">\n",
              "  <thead>\n",
              "    <tr style=\"text-align: right;\">\n",
              "      <th></th>\n",
              "      <th>data_e_hora</th>\n",
              "      <th>Kilimanjaro Safari</th>\n",
              "      <th>Dinosaur</th>\n",
              "      <th>Expedition Everest</th>\n",
              "      <th>Avatar: Flight of Passage</th>\n",
              "      <th>Navi River</th>\n",
              "    </tr>\n",
              "  </thead>\n",
              "  <tbody>\n",
              "    <tr>\n",
              "      <th>0</th>\n",
              "      <td>2015-01-01 00:00:00</td>\n",
              "      <td>0.0</td>\n",
              "      <td>0.0</td>\n",
              "      <td>0.0</td>\n",
              "      <td>0.0</td>\n",
              "      <td>0.0</td>\n",
              "    </tr>\n",
              "    <tr>\n",
              "      <th>1</th>\n",
              "      <td>2015-01-01 00:05:00</td>\n",
              "      <td>0.0</td>\n",
              "      <td>0.0</td>\n",
              "      <td>0.0</td>\n",
              "      <td>0.0</td>\n",
              "      <td>0.0</td>\n",
              "    </tr>\n",
              "    <tr>\n",
              "      <th>2</th>\n",
              "      <td>2015-01-01 00:10:00</td>\n",
              "      <td>0.0</td>\n",
              "      <td>0.0</td>\n",
              "      <td>0.0</td>\n",
              "      <td>0.0</td>\n",
              "      <td>0.0</td>\n",
              "    </tr>\n",
              "    <tr>\n",
              "      <th>3</th>\n",
              "      <td>2015-01-01 00:15:00</td>\n",
              "      <td>0.0</td>\n",
              "      <td>0.0</td>\n",
              "      <td>0.0</td>\n",
              "      <td>0.0</td>\n",
              "      <td>0.0</td>\n",
              "    </tr>\n",
              "    <tr>\n",
              "      <th>4</th>\n",
              "      <td>2015-01-01 00:20:00</td>\n",
              "      <td>0.0</td>\n",
              "      <td>0.0</td>\n",
              "      <td>0.0</td>\n",
              "      <td>0.0</td>\n",
              "      <td>0.0</td>\n",
              "    </tr>\n",
              "    <tr>\n",
              "      <th>...</th>\n",
              "      <td>...</td>\n",
              "      <td>...</td>\n",
              "      <td>...</td>\n",
              "      <td>...</td>\n",
              "      <td>...</td>\n",
              "      <td>...</td>\n",
              "    </tr>\n",
              "    <tr>\n",
              "      <th>525883</th>\n",
              "      <td>2019-12-31 23:35:00</td>\n",
              "      <td>23.0</td>\n",
              "      <td>23.0</td>\n",
              "      <td>23.0</td>\n",
              "      <td>23.0</td>\n",
              "      <td>23.0</td>\n",
              "    </tr>\n",
              "    <tr>\n",
              "      <th>525884</th>\n",
              "      <td>2019-12-31 23:40:00</td>\n",
              "      <td>12.0</td>\n",
              "      <td>12.0</td>\n",
              "      <td>12.0</td>\n",
              "      <td>12.0</td>\n",
              "      <td>12.0</td>\n",
              "    </tr>\n",
              "    <tr>\n",
              "      <th>525885</th>\n",
              "      <td>2019-12-31 23:45:00</td>\n",
              "      <td>0.0</td>\n",
              "      <td>0.0</td>\n",
              "      <td>0.0</td>\n",
              "      <td>0.0</td>\n",
              "      <td>0.0</td>\n",
              "    </tr>\n",
              "    <tr>\n",
              "      <th>525886</th>\n",
              "      <td>2019-12-31 23:50:00</td>\n",
              "      <td>0.0</td>\n",
              "      <td>0.0</td>\n",
              "      <td>0.0</td>\n",
              "      <td>0.0</td>\n",
              "      <td>0.0</td>\n",
              "    </tr>\n",
              "    <tr>\n",
              "      <th>525887</th>\n",
              "      <td>2019-12-31 23:55:00</td>\n",
              "      <td>0.0</td>\n",
              "      <td>0.0</td>\n",
              "      <td>0.0</td>\n",
              "      <td>0.0</td>\n",
              "      <td>0.0</td>\n",
              "    </tr>\n",
              "  </tbody>\n",
              "</table>\n",
              "<p>525888 rows × 6 columns</p>\n",
              "</div>"
            ],
            "text/plain": [
              "               data_e_hora  ...  Navi River\n",
              "0      2015-01-01 00:00:00  ...         0.0\n",
              "1      2015-01-01 00:05:00  ...         0.0\n",
              "2      2015-01-01 00:10:00  ...         0.0\n",
              "3      2015-01-01 00:15:00  ...         0.0\n",
              "4      2015-01-01 00:20:00  ...         0.0\n",
              "...                    ...  ...         ...\n",
              "525883 2019-12-31 23:35:00  ...        23.0\n",
              "525884 2019-12-31 23:40:00  ...        12.0\n",
              "525885 2019-12-31 23:45:00  ...         0.0\n",
              "525886 2019-12-31 23:50:00  ...         0.0\n",
              "525887 2019-12-31 23:55:00  ...         0.0\n",
              "\n",
              "[525888 rows x 6 columns]"
            ]
          },
          "metadata": {
            "tags": []
          },
          "execution_count": 28
        }
      ]
    },
    {
      "cell_type": "markdown",
      "metadata": {
        "id": "C8OIaOMIE3XM"
      },
      "source": [
        "## <font color=green>Exportando DataFrames por Parque</font>\r\n",
        "***"
      ]
    },
    {
      "cell_type": "code",
      "metadata": {
        "id": "4VxNqf5KdT9l"
      },
      "source": [
        "MagicKingdom.to_csv (r'C:\\MagicKingdom.csv')\r\n",
        "Epcot.to_csv (r'C:\\Epcot.csv')\r\n",
        "HollywoodStudios.to_csv (r'C:\\HollywoodStudios.csv')\r\n",
        "AnimalKingdom.to_csv (r'C:\\AnimalKingdom.csv')"
      ],
      "execution_count": null,
      "outputs": []
    },
    {
      "cell_type": "code",
      "metadata": {
        "id": "hLes5Z7ZEqnx"
      },
      "source": [
        ""
      ],
      "execution_count": null,
      "outputs": []
    }
  ]
}