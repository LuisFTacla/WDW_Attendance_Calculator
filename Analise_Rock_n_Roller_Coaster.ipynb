{
  "nbformat": 4,
  "nbformat_minor": 0,
  "metadata": {
    "colab": {
      "name": "Analise_Rock_n_Roller_Coaster.ipynb",
      "provenance": [],
      "collapsed_sections": [],
      "authorship_tag": "ABX9TyOVRdbjTRO2oessis8QWe1g",
      "include_colab_link": true
    },
    "kernelspec": {
      "name": "python3",
      "display_name": "Python 3"
    },
    "language_info": {
      "name": "python"
    }
  },
  "cells": [
    {
      "cell_type": "markdown",
      "metadata": {
        "id": "view-in-github",
        "colab_type": "text"
      },
      "source": [
        "<a href=\"https://colab.research.google.com/github/LuisFTacla/WDW_Attendance_Calculator/blob/main/Analise_Rock_n_Roller_Coaster.ipynb\" target=\"_parent\"><img src=\"https://colab.research.google.com/assets/colab-badge.svg\" alt=\"Open In Colab\"/></a>"
      ]
    },
    {
      "cell_type": "markdown",
      "metadata": {
        "id": "WvMflodMjQKe"
      },
      "source": [
        "***\n",
        "# <font color=green size=10>ANÁLISE DA ATRAÇÃO ROCK'N'ROLLER COASTER</font>\n",
        "***"
      ]
    },
    {
      "cell_type": "markdown",
      "metadata": {
        "id": "cVgsZ_E3jQKg"
      },
      "source": [
        "# <font color=green>1 CONHECENDO OS DADOS</font>\n",
        "***"
      ]
    },
    {
      "cell_type": "markdown",
      "metadata": {
        "id": "TDjqYYNojQKh"
      },
      "source": [
        "## <font color=green>1.1 Dataset do projeto</font>\n",
        "***"
      ]
    },
    {
      "cell_type": "markdown",
      "metadata": {
        "id": "HZi5yEf7Z6wI"
      },
      "source": [
        "# Fonte dos dados: \n",
        "\n",
        "https://touringplans.com/blog/2018/06/25/disney-world-wait-times-available-for-data-science-and-machine-learning/\n",
        "\n"
      ]
    },
    {
      "cell_type": "markdown",
      "metadata": {
        "id": "jXMNV5xAamLn"
      },
      "source": [
        "### Variáveis utilizadas\n",
        "\n",
        "> ### Data e hora\n",
        "> ***\n",
        "\n",
        "Instante em que as observações foram realizadas.\n",
        "\n",
        "> ### Tempo de fila\n",
        "> ***\n",
        "\n",
        "Tempo estimado de espera que um visitante que entrasse na fila no dado instante teria de aguardar para andar na atração.\n",
        "\n",
        "> ### Status\n",
        "> ***\n",
        "\n",
        "Status da atração em dado momentoo (aberta (1) / fechada (0)).\n"
      ]
    },
    {
      "cell_type": "markdown",
      "metadata": {
        "id": "L165dZnOcikG"
      },
      "source": [
        "#### <font color='red'>Observação</font>\n",
        "***\n",
        "> Os dados brutos necessitam dos seguintes tratamento antes de serem analisados:\n",
        "> 1. Eliminar os registros onde o <b>tempo de fila</b> é inválido (-999);\n",
        "> 2. Eliminar os registros onde o <b>tempo de fila</b> é NaN;\n",
        "> 3. Renomear as colunas para 'Data e hora' e 'Tempo de Fila';\n",
        "> 4. Remover coluna <b>SACTMIN</b> devido a ausência da grande maioria de dados;\n",
        "> 5. Criar a coluna <b>Status</b> com uma variável booleana que informa se atração está aberta ou fechada.\n"
      ]
    },
    {
      "cell_type": "markdown",
      "metadata": {
        "id": "8Rw70V6ojQKk"
      },
      "source": [
        "### Importando bibliotecas e lendo o dataset do projeto\n",
        "\n",
        "https://pandas.pydata.org/"
      ]
    },
    {
      "cell_type": "code",
      "metadata": {
        "id": "aythPDF0dyjF"
      },
      "source": [
        "import pandas as pd\n",
        "import numpy as np\n",
        "import scipy.interpolate as interpolate\n",
        "import matplotlib.pyplot as plt\n",
        "from datetime import datetime\n",
        "from datetime import timedelta"
      ],
      "execution_count": 1,
      "outputs": []
    },
    {
      "cell_type": "code",
      "metadata": {
        "id": "euY7Z8LMd0PW"
      },
      "source": [
        "rrc = pd.read_csv('https://raw.githubusercontent.com/LuisFTacla/WDW_Attendance_Calculator/main/Dados/TouringPlans/Rides/Raw_Data/rock_n_rollercoaster.csv')"
      ],
      "execution_count": 2,
      "outputs": []
    },
    {
      "cell_type": "code",
      "metadata": {
        "colab": {
          "base_uri": "https://localhost:8080/",
          "height": 347
        },
        "id": "50Wa8dApeXmN",
        "outputId": "f52544ac-31e8-44ad-ac83-3b82e5f87f41"
      },
      "source": [
        "rrc.head(10)"
      ],
      "execution_count": 3,
      "outputs": [
        {
          "output_type": "execute_result",
          "data": {
            "text/html": [
              "<div>\n",
              "<style scoped>\n",
              "    .dataframe tbody tr th:only-of-type {\n",
              "        vertical-align: middle;\n",
              "    }\n",
              "\n",
              "    .dataframe tbody tr th {\n",
              "        vertical-align: top;\n",
              "    }\n",
              "\n",
              "    .dataframe thead th {\n",
              "        text-align: right;\n",
              "    }\n",
              "</style>\n",
              "<table border=\"1\" class=\"dataframe\">\n",
              "  <thead>\n",
              "    <tr style=\"text-align: right;\">\n",
              "      <th></th>\n",
              "      <th>date</th>\n",
              "      <th>datetime</th>\n",
              "      <th>SACTMIN</th>\n",
              "      <th>SPOSTMIN</th>\n",
              "    </tr>\n",
              "  </thead>\n",
              "  <tbody>\n",
              "    <tr>\n",
              "      <th>0</th>\n",
              "      <td>01/01/2015</td>\n",
              "      <td>2015-01-01 07:46:22</td>\n",
              "      <td>NaN</td>\n",
              "      <td>5.0</td>\n",
              "    </tr>\n",
              "    <tr>\n",
              "      <th>1</th>\n",
              "      <td>01/01/2015</td>\n",
              "      <td>2015-01-01 07:53:19</td>\n",
              "      <td>NaN</td>\n",
              "      <td>5.0</td>\n",
              "    </tr>\n",
              "    <tr>\n",
              "      <th>2</th>\n",
              "      <td>01/01/2015</td>\n",
              "      <td>2015-01-01 08:04:29</td>\n",
              "      <td>NaN</td>\n",
              "      <td>20.0</td>\n",
              "    </tr>\n",
              "    <tr>\n",
              "      <th>3</th>\n",
              "      <td>01/01/2015</td>\n",
              "      <td>2015-01-01 08:11:19</td>\n",
              "      <td>NaN</td>\n",
              "      <td>20.0</td>\n",
              "    </tr>\n",
              "    <tr>\n",
              "      <th>4</th>\n",
              "      <td>01/01/2015</td>\n",
              "      <td>2015-01-01 08:16:29</td>\n",
              "      <td>NaN</td>\n",
              "      <td>20.0</td>\n",
              "    </tr>\n",
              "    <tr>\n",
              "      <th>5</th>\n",
              "      <td>01/01/2015</td>\n",
              "      <td>2015-01-01 08:18:22</td>\n",
              "      <td>NaN</td>\n",
              "      <td>20.0</td>\n",
              "    </tr>\n",
              "    <tr>\n",
              "      <th>6</th>\n",
              "      <td>01/01/2015</td>\n",
              "      <td>2015-01-01 08:24:23</td>\n",
              "      <td>19.0</td>\n",
              "      <td>NaN</td>\n",
              "    </tr>\n",
              "    <tr>\n",
              "      <th>7</th>\n",
              "      <td>01/01/2015</td>\n",
              "      <td>2015-01-01 08:24:37</td>\n",
              "      <td>NaN</td>\n",
              "      <td>20.0</td>\n",
              "    </tr>\n",
              "    <tr>\n",
              "      <th>8</th>\n",
              "      <td>01/01/2015</td>\n",
              "      <td>2015-01-01 08:25:19</td>\n",
              "      <td>NaN</td>\n",
              "      <td>20.0</td>\n",
              "    </tr>\n",
              "    <tr>\n",
              "      <th>9</th>\n",
              "      <td>01/01/2015</td>\n",
              "      <td>2015-01-01 08:27:37</td>\n",
              "      <td>NaN</td>\n",
              "      <td>30.0</td>\n",
              "    </tr>\n",
              "  </tbody>\n",
              "</table>\n",
              "</div>"
            ],
            "text/plain": [
              "         date             datetime  SACTMIN  SPOSTMIN\n",
              "0  01/01/2015  2015-01-01 07:46:22      NaN       5.0\n",
              "1  01/01/2015  2015-01-01 07:53:19      NaN       5.0\n",
              "2  01/01/2015  2015-01-01 08:04:29      NaN      20.0\n",
              "3  01/01/2015  2015-01-01 08:11:19      NaN      20.0\n",
              "4  01/01/2015  2015-01-01 08:16:29      NaN      20.0\n",
              "5  01/01/2015  2015-01-01 08:18:22      NaN      20.0\n",
              "6  01/01/2015  2015-01-01 08:24:23     19.0       NaN\n",
              "7  01/01/2015  2015-01-01 08:24:37      NaN      20.0\n",
              "8  01/01/2015  2015-01-01 08:25:19      NaN      20.0\n",
              "9  01/01/2015  2015-01-01 08:27:37      NaN      30.0"
            ]
          },
          "metadata": {
            "tags": []
          },
          "execution_count": 3
        }
      ]
    },
    {
      "cell_type": "markdown",
      "metadata": {
        "id": "ct_zrJT8e9pT"
      },
      "source": [
        "# <font color=green>2 TRATAMENTO DOS DADOS</font>\n",
        "***"
      ]
    },
    {
      "cell_type": "markdown",
      "metadata": {
        "id": "zMmW-WXLfsA0"
      },
      "source": [
        "Para o tratamento dos dados, são declaradas funções que recebem o dataframe como parâmetro e, em cada uma, exerce uma modificação específica ao conjunto de dados retornando, por final, o dataframe tratado."
      ]
    },
    {
      "cell_type": "markdown",
      "metadata": {
        "id": "RQawG7EyhtzR"
      },
      "source": [
        "## <font color=green>2.1 Remoção da coluna 'SACTMIN'</font>\n",
        "***"
      ]
    },
    {
      "cell_type": "markdown",
      "metadata": {
        "id": "OARmwqiqAAm7"
      },
      "source": [
        "Coluna 'SACTMIN' possui mais lacunas do que dados úteis, por isso faz-se necessário removê-la."
      ]
    },
    {
      "cell_type": "code",
      "metadata": {
        "id": "Dwj129zLhkbL"
      },
      "source": [
        "def remove_sactmin(dados): \n",
        "  dados.drop(columns = ['SACTMIN'], inplace = True)\n",
        "  return dados"
      ],
      "execution_count": 4,
      "outputs": []
    },
    {
      "cell_type": "markdown",
      "metadata": {
        "id": "adD5ms1JhuF0"
      },
      "source": [
        "## <font color=green>2.2 Remoção de linhas com dados ausentes (NaN) na coluna 'SPOSTMIN'</font>\n",
        "***\n"
      ]
    },
    {
      "cell_type": "code",
      "metadata": {
        "id": "zRZsr_n1hkYq"
      },
      "source": [
        "def remove_dados_ausentes(dados):\n",
        "  dados.dropna(inplace= True)\n",
        "  return dados"
      ],
      "execution_count": 5,
      "outputs": []
    },
    {
      "cell_type": "markdown",
      "metadata": {
        "id": "Gwovxga-huis"
      },
      "source": [
        "## <font color=green>2.3 Conversão das datas e horas</font>\n",
        "***\n",
        "\n",
        "Os dados de 'datetime' estão armazenados como strings. Nesta função, é feita a conversão para timestamps os dados são cpoiados para a coluna recém criada 'data_e_hora'."
      ]
    },
    {
      "cell_type": "code",
      "metadata": {
        "id": "caOyjEeMhkWN"
      },
      "source": [
        "def to_datetime(dados):\n",
        "  dados['data_e_hora'] = pd.to_datetime(dados['datetime'])\n",
        "  return dados"
      ],
      "execution_count": 6,
      "outputs": []
    },
    {
      "cell_type": "markdown",
      "metadata": {
        "id": "XWeQKXcdhu-s"
      },
      "source": [
        "## <font color=green>2.4 Criação da coluna 'tempo_de_fila' e copiando os dados da coluna 'SPOSTMIN'</font>\n",
        "***"
      ]
    },
    {
      "cell_type": "code",
      "metadata": {
        "id": "VoApiPXYhkTS"
      },
      "source": [
        "def cria_coluna_tempo_de_fila(dados):\n",
        "  dados['tempo_de_fila'] = dados['SPOSTMIN']\n",
        "  return dados"
      ],
      "execution_count": 7,
      "outputs": []
    },
    {
      "cell_type": "markdown",
      "metadata": {
        "id": "S7fIV57GhvaU"
      },
      "source": [
        "## <font color=green>2.5 Removendo colunas</font>\n",
        "***\n",
        "\n",
        "As colunas 'SPOSTMIN', 'date' e 'datetime' ja possuem seus dados devidamente convertidos e copiados nas colunas criadas, logo, pode-se fazer a remoção.\n",
        "\n"
      ]
    },
    {
      "cell_type": "code",
      "metadata": {
        "id": "i2ooN9Leho_j"
      },
      "source": [
        "def remove_colunas(dados):\n",
        "  dados.drop(columns = ['SPOSTMIN', 'date', 'datetime'], inplace = True)\n",
        "  return dados"
      ],
      "execution_count": 8,
      "outputs": []
    },
    {
      "cell_type": "markdown",
      "metadata": {
        "id": "K4g3VXaOhvsk"
      },
      "source": [
        "## <font color=green>2.6 Reset Index</font>\n",
        "***\n",
        "Com o apagamento de linhas, a numeração do índice contém lacunas."
      ]
    },
    {
      "cell_type": "code",
      "metadata": {
        "id": "XbbwsVDyho9U"
      },
      "source": [
        "def reset_index(dados):\n",
        "  dados.reset_index(drop = True, inplace = True)\n",
        "  return dados"
      ],
      "execution_count": 9,
      "outputs": []
    },
    {
      "cell_type": "markdown",
      "metadata": {
        "id": "5GF0tPwajd8R"
      },
      "source": [
        "## <font color=green>2.7 Tratamento</font>\n",
        "***\n",
        "\n",
        "Para evitar chamar cada função manualmente, é declarada uma função geral que, dentro dela, são chamadas as funções acima em ordem."
      ]
    },
    {
      "cell_type": "code",
      "metadata": {
        "id": "DRFtk4mhhkPK"
      },
      "source": [
        "def tratamento_dados(dados):\n",
        "  remove_sactmin(dados)\n",
        "  remove_dados_ausentes(dados)\n",
        "  to_datetime(dados)\n",
        "  cria_coluna_tempo_de_fila(dados)\n",
        "  remove_colunas(dados)\n",
        "  reset_index(dados)"
      ],
      "execution_count": 10,
      "outputs": []
    },
    {
      "cell_type": "markdown",
      "metadata": {
        "id": "UOFo0KMYjrxD"
      },
      "source": [
        "Tratando os dados:"
      ]
    },
    {
      "cell_type": "code",
      "metadata": {
        "id": "XUsTRb3zfBzV"
      },
      "source": [
        "tratamento_dados(rrc)"
      ],
      "execution_count": 11,
      "outputs": []
    },
    {
      "cell_type": "markdown",
      "metadata": {
        "id": "I6FqrfpejzBc"
      },
      "source": [
        "Visualizando os dados:"
      ]
    },
    {
      "cell_type": "code",
      "metadata": {
        "colab": {
          "base_uri": "https://localhost:8080/",
          "height": 347
        },
        "id": "K_adt1c2fBwW",
        "outputId": "4b4959f2-fb93-4313-8368-f234f4770241"
      },
      "source": [
        "rrc.head(10)"
      ],
      "execution_count": 12,
      "outputs": [
        {
          "output_type": "execute_result",
          "data": {
            "text/html": [
              "<div>\n",
              "<style scoped>\n",
              "    .dataframe tbody tr th:only-of-type {\n",
              "        vertical-align: middle;\n",
              "    }\n",
              "\n",
              "    .dataframe tbody tr th {\n",
              "        vertical-align: top;\n",
              "    }\n",
              "\n",
              "    .dataframe thead th {\n",
              "        text-align: right;\n",
              "    }\n",
              "</style>\n",
              "<table border=\"1\" class=\"dataframe\">\n",
              "  <thead>\n",
              "    <tr style=\"text-align: right;\">\n",
              "      <th></th>\n",
              "      <th>data_e_hora</th>\n",
              "      <th>tempo_de_fila</th>\n",
              "    </tr>\n",
              "  </thead>\n",
              "  <tbody>\n",
              "    <tr>\n",
              "      <th>0</th>\n",
              "      <td>2015-01-01 07:46:22</td>\n",
              "      <td>5.0</td>\n",
              "    </tr>\n",
              "    <tr>\n",
              "      <th>1</th>\n",
              "      <td>2015-01-01 07:53:19</td>\n",
              "      <td>5.0</td>\n",
              "    </tr>\n",
              "    <tr>\n",
              "      <th>2</th>\n",
              "      <td>2015-01-01 08:04:29</td>\n",
              "      <td>20.0</td>\n",
              "    </tr>\n",
              "    <tr>\n",
              "      <th>3</th>\n",
              "      <td>2015-01-01 08:11:19</td>\n",
              "      <td>20.0</td>\n",
              "    </tr>\n",
              "    <tr>\n",
              "      <th>4</th>\n",
              "      <td>2015-01-01 08:16:29</td>\n",
              "      <td>20.0</td>\n",
              "    </tr>\n",
              "    <tr>\n",
              "      <th>5</th>\n",
              "      <td>2015-01-01 08:18:22</td>\n",
              "      <td>20.0</td>\n",
              "    </tr>\n",
              "    <tr>\n",
              "      <th>6</th>\n",
              "      <td>2015-01-01 08:24:37</td>\n",
              "      <td>20.0</td>\n",
              "    </tr>\n",
              "    <tr>\n",
              "      <th>7</th>\n",
              "      <td>2015-01-01 08:25:19</td>\n",
              "      <td>20.0</td>\n",
              "    </tr>\n",
              "    <tr>\n",
              "      <th>8</th>\n",
              "      <td>2015-01-01 08:27:37</td>\n",
              "      <td>30.0</td>\n",
              "    </tr>\n",
              "    <tr>\n",
              "      <th>9</th>\n",
              "      <td>2015-01-01 08:31:20</td>\n",
              "      <td>30.0</td>\n",
              "    </tr>\n",
              "  </tbody>\n",
              "</table>\n",
              "</div>"
            ],
            "text/plain": [
              "          data_e_hora  tempo_de_fila\n",
              "0 2015-01-01 07:46:22            5.0\n",
              "1 2015-01-01 07:53:19            5.0\n",
              "2 2015-01-01 08:04:29           20.0\n",
              "3 2015-01-01 08:11:19           20.0\n",
              "4 2015-01-01 08:16:29           20.0\n",
              "5 2015-01-01 08:18:22           20.0\n",
              "6 2015-01-01 08:24:37           20.0\n",
              "7 2015-01-01 08:25:19           20.0\n",
              "8 2015-01-01 08:27:37           30.0\n",
              "9 2015-01-01 08:31:20           30.0"
            ]
          },
          "metadata": {
            "tags": []
          },
          "execution_count": 12
        }
      ]
    },
    {
      "cell_type": "markdown",
      "metadata": {
        "id": "K1QLtAJhBl8Y"
      },
      "source": [
        "## <font color=green>2.8 Filtrando os dados</font>\n",
        "***"
      ]
    },
    {
      "cell_type": "code",
      "metadata": {
        "colab": {
          "base_uri": "https://localhost:8080/"
        },
        "id": "IzpAXxzvfBtN",
        "outputId": "2d46c118-aca0-4748-d6bd-b2d291c1f8df"
      },
      "source": [
        "rrc.tempo_de_fila.min()"
      ],
      "execution_count": 13,
      "outputs": [
        {
          "output_type": "execute_result",
          "data": {
            "text/plain": [
              "-999.0"
            ]
          },
          "metadata": {
            "tags": []
          },
          "execution_count": 13
        }
      ]
    },
    {
      "cell_type": "markdown",
      "metadata": {
        "id": "XZ1G7gSIlQgO"
      },
      "source": [
        "Como podemos ver na célula acima, ainda não terminamos a \"limpeza\" dos dados! Existem dados inválidos, com valores de -999. Para removê-los, basta aplicarmos um filtro no dataframe:"
      ]
    },
    {
      "cell_type": "code",
      "metadata": {
        "id": "YBoOYTclfBqC"
      },
      "source": [
        "filtro = rrc.tempo_de_fila >= 0\n",
        "rrc = rrc[filtro]"
      ],
      "execution_count": 14,
      "outputs": []
    },
    {
      "cell_type": "code",
      "metadata": {
        "colab": {
          "base_uri": "https://localhost:8080/"
        },
        "id": "2X0BUpzfe4IK",
        "outputId": "0724a81d-8ae3-4951-b977-9767a21da411"
      },
      "source": [
        "rrc.tempo_de_fila.min()"
      ],
      "execution_count": 15,
      "outputs": [
        {
          "output_type": "execute_result",
          "data": {
            "text/plain": [
              "0.0"
            ]
          },
          "metadata": {
            "tags": []
          },
          "execution_count": 15
        }
      ]
    },
    {
      "cell_type": "markdown",
      "metadata": {
        "id": "cxEVfwWinE0F"
      },
      "source": [
        "# <font color=green>3 AJUSTE DOS DADOS</font>\n",
        "***"
      ]
    },
    {
      "cell_type": "markdown",
      "metadata": {
        "id": "wmL0BdMdnRsW"
      },
      "source": [
        "Os dados já estão tratados, porém nota-se que as observações foram feitas em horários muito \"quebrados\". A fim de tornar a plotagem mais esteticamente agradável, iremos ajustar o dataframe para mostrar os dados em instantes de 5 em 5 minutos.\n",
        "\n",
        "\n",
        "Para fazer esse ajuste, será usada a função de interpolação **interp()** da biblioteca **numpy**. Essa função será chamada da seguinte forma:\n",
        "\n",
        "\n",
        "> Y_interp = np.interp(X_interp, X, Y)\n",
        "\n",
        "\n",
        "Sendo:\n",
        "\n",
        "Y_interp = o resultado final da interpolação, no caso, os dados ajustados;\n",
        "\n",
        "X_interp = o 'passo' onde os dados serão 'encaixados', ou seja, os instantes listados de 5 em 5 minutos;\n",
        "\n",
        "X = os instantes das observações, em horários não ajustados;\n",
        "\n",
        "Y = os dados de tempos de fila.\n",
        "\n",
        "\n",
        "Antes de realizar a interpolação, precisamos fazer duas coisas: criar um dataframe de 'base' em que listaremos os instantes de 5 em 5 minutos, o qual usaremos na interpolação; unir a base com os dados, reordenar de acordo com a data e filtrar este novo dataframe. \n",
        "\n",
        "#### <font color='red'>Observação</font>\n",
        "***\n",
        "> Este último passo se faz necessário pois, como os parques não operam durante a madrugada, não há observações nos dados brutos. O problema seria visto durante a plotagem dos gráficos diários. Como a última observação de um dia i e a primeira do dia i+1 não são iguais a zero, a função interp iria atribuir valores diferentes de zero nos horários de parque fechado.\n",
        "\n",
        "> Exemplificando: supondo que no dia 25, o último dado foi obtido às 23h37, com a fila tendo 5 minutos de duração. No dia 26, por sua vez, o primeiro dado, obtido às 7h49, mostra que a fila está com 10 minutos. A função interp iria atribuir a todo esse intervalo valores crescentes entre 5 e 10 minutos, como se houvesse alguma fila durante a madrugada, o que não condiz com a realidade."
      ]
    },
    {
      "cell_type": "markdown",
      "metadata": {
        "id": "kVYjKGH7yI2H"
      },
      "source": [
        "## <font color=green>3.1 Criando dataframe 'base'</font>\n",
        "***"
      ]
    },
    {
      "cell_type": "markdown",
      "metadata": {
        "id": "MQTycvCj0dey"
      },
      "source": [
        "#### <font color='red'>Observação</font>\n",
        "***\n",
        "> O número de observações do dataframe base é obtido com os seguintes dados:\n",
        "\n",
        "365 dias por ano;\n",
        "\n",
        "5 anos de dados (2015 a 2019);\n",
        "\n",
        "1 dia a mais por ano bissexto (2016);\n",
        "\n",
        "24 horas por dia;\n",
        "\n",
        "12 intervalos de 5 minutos dentro de 1 hora."
      ]
    },
    {
      "cell_type": "code",
      "metadata": {
        "id": "kWbnZ2sylnvD"
      },
      "source": [
        "# Calculando numero de observacoes\n",
        "n_observacoes = ((365 * 5) + 1) * 24 * 12\n",
        "\n",
        "\n",
        "# Criação de um índice de datas/horas\n",
        "instantes_5_em_5 = pd.date_range(start='1/1/2015', # Data de início da série\n",
        "                                 periods = n_observacoes, # \n",
        "                                 freq = '5min')\n",
        "\n",
        "# Criação do dataframe de base\n",
        "base = pd.DataFrame(index = range(0,n_observacoes), columns = ['data_e_hora', \n",
        "                                                               'tempo_de_fila'])\n",
        "base['data_e_hora'] = instantes_5_em_5\n",
        "base['tempo_de_fila'] = 0"
      ],
      "execution_count": 16,
      "outputs": []
    },
    {
      "cell_type": "code",
      "metadata": {
        "colab": {
          "base_uri": "https://localhost:8080/",
          "height": 347
        },
        "id": "t41mWdPzzKQL",
        "outputId": "4280e2ae-d3ca-4a21-af6b-5911b75de5b0"
      },
      "source": [
        "base.head(10)"
      ],
      "execution_count": 17,
      "outputs": [
        {
          "output_type": "execute_result",
          "data": {
            "text/html": [
              "<div>\n",
              "<style scoped>\n",
              "    .dataframe tbody tr th:only-of-type {\n",
              "        vertical-align: middle;\n",
              "    }\n",
              "\n",
              "    .dataframe tbody tr th {\n",
              "        vertical-align: top;\n",
              "    }\n",
              "\n",
              "    .dataframe thead th {\n",
              "        text-align: right;\n",
              "    }\n",
              "</style>\n",
              "<table border=\"1\" class=\"dataframe\">\n",
              "  <thead>\n",
              "    <tr style=\"text-align: right;\">\n",
              "      <th></th>\n",
              "      <th>data_e_hora</th>\n",
              "      <th>tempo_de_fila</th>\n",
              "    </tr>\n",
              "  </thead>\n",
              "  <tbody>\n",
              "    <tr>\n",
              "      <th>0</th>\n",
              "      <td>2015-01-01 00:00:00</td>\n",
              "      <td>0</td>\n",
              "    </tr>\n",
              "    <tr>\n",
              "      <th>1</th>\n",
              "      <td>2015-01-01 00:05:00</td>\n",
              "      <td>0</td>\n",
              "    </tr>\n",
              "    <tr>\n",
              "      <th>2</th>\n",
              "      <td>2015-01-01 00:10:00</td>\n",
              "      <td>0</td>\n",
              "    </tr>\n",
              "    <tr>\n",
              "      <th>3</th>\n",
              "      <td>2015-01-01 00:15:00</td>\n",
              "      <td>0</td>\n",
              "    </tr>\n",
              "    <tr>\n",
              "      <th>4</th>\n",
              "      <td>2015-01-01 00:20:00</td>\n",
              "      <td>0</td>\n",
              "    </tr>\n",
              "    <tr>\n",
              "      <th>5</th>\n",
              "      <td>2015-01-01 00:25:00</td>\n",
              "      <td>0</td>\n",
              "    </tr>\n",
              "    <tr>\n",
              "      <th>6</th>\n",
              "      <td>2015-01-01 00:30:00</td>\n",
              "      <td>0</td>\n",
              "    </tr>\n",
              "    <tr>\n",
              "      <th>7</th>\n",
              "      <td>2015-01-01 00:35:00</td>\n",
              "      <td>0</td>\n",
              "    </tr>\n",
              "    <tr>\n",
              "      <th>8</th>\n",
              "      <td>2015-01-01 00:40:00</td>\n",
              "      <td>0</td>\n",
              "    </tr>\n",
              "    <tr>\n",
              "      <th>9</th>\n",
              "      <td>2015-01-01 00:45:00</td>\n",
              "      <td>0</td>\n",
              "    </tr>\n",
              "  </tbody>\n",
              "</table>\n",
              "</div>"
            ],
            "text/plain": [
              "          data_e_hora  tempo_de_fila\n",
              "0 2015-01-01 00:00:00              0\n",
              "1 2015-01-01 00:05:00              0\n",
              "2 2015-01-01 00:10:00              0\n",
              "3 2015-01-01 00:15:00              0\n",
              "4 2015-01-01 00:20:00              0\n",
              "5 2015-01-01 00:25:00              0\n",
              "6 2015-01-01 00:30:00              0\n",
              "7 2015-01-01 00:35:00              0\n",
              "8 2015-01-01 00:40:00              0\n",
              "9 2015-01-01 00:45:00              0"
            ]
          },
          "metadata": {
            "tags": []
          },
          "execution_count": 17
        }
      ]
    },
    {
      "cell_type": "markdown",
      "metadata": {
        "id": "TaEx2k-31hDu"
      },
      "source": [
        "## <font color=green>3.2 Unindo dataframes base + dados</font>\n",
        "***"
      ]
    },
    {
      "cell_type": "code",
      "metadata": {
        "id": "uct9DSAoydw5"
      },
      "source": [
        "rrc_df = base.append(rrc)"
      ],
      "execution_count": 18,
      "outputs": []
    },
    {
      "cell_type": "code",
      "metadata": {
        "colab": {
          "base_uri": "https://localhost:8080/",
          "height": 406
        },
        "id": "rKMeNgSR1rkQ",
        "outputId": "eefaf752-ce9f-4111-e316-e7a1761c71a5"
      },
      "source": [
        "rrc_df"
      ],
      "execution_count": 19,
      "outputs": [
        {
          "output_type": "execute_result",
          "data": {
            "text/html": [
              "<div>\n",
              "<style scoped>\n",
              "    .dataframe tbody tr th:only-of-type {\n",
              "        vertical-align: middle;\n",
              "    }\n",
              "\n",
              "    .dataframe tbody tr th {\n",
              "        vertical-align: top;\n",
              "    }\n",
              "\n",
              "    .dataframe thead th {\n",
              "        text-align: right;\n",
              "    }\n",
              "</style>\n",
              "<table border=\"1\" class=\"dataframe\">\n",
              "  <thead>\n",
              "    <tr style=\"text-align: right;\">\n",
              "      <th></th>\n",
              "      <th>data_e_hora</th>\n",
              "      <th>tempo_de_fila</th>\n",
              "    </tr>\n",
              "  </thead>\n",
              "  <tbody>\n",
              "    <tr>\n",
              "      <th>0</th>\n",
              "      <td>2015-01-01 00:00:00</td>\n",
              "      <td>0.0</td>\n",
              "    </tr>\n",
              "    <tr>\n",
              "      <th>1</th>\n",
              "      <td>2015-01-01 00:05:00</td>\n",
              "      <td>0.0</td>\n",
              "    </tr>\n",
              "    <tr>\n",
              "      <th>2</th>\n",
              "      <td>2015-01-01 00:10:00</td>\n",
              "      <td>0.0</td>\n",
              "    </tr>\n",
              "    <tr>\n",
              "      <th>3</th>\n",
              "      <td>2015-01-01 00:15:00</td>\n",
              "      <td>0.0</td>\n",
              "    </tr>\n",
              "    <tr>\n",
              "      <th>4</th>\n",
              "      <td>2015-01-01 00:20:00</td>\n",
              "      <td>0.0</td>\n",
              "    </tr>\n",
              "    <tr>\n",
              "      <th>...</th>\n",
              "      <td>...</td>\n",
              "      <td>...</td>\n",
              "    </tr>\n",
              "    <tr>\n",
              "      <th>211432</th>\n",
              "      <td>2019-12-31 22:58:02</td>\n",
              "      <td>45.0</td>\n",
              "    </tr>\n",
              "    <tr>\n",
              "      <th>211433</th>\n",
              "      <td>2019-12-31 23:09:02</td>\n",
              "      <td>35.0</td>\n",
              "    </tr>\n",
              "    <tr>\n",
              "      <th>211434</th>\n",
              "      <td>2019-12-31 23:16:02</td>\n",
              "      <td>35.0</td>\n",
              "    </tr>\n",
              "    <tr>\n",
              "      <th>211435</th>\n",
              "      <td>2019-12-31 23:23:02</td>\n",
              "      <td>35.0</td>\n",
              "    </tr>\n",
              "    <tr>\n",
              "      <th>211436</th>\n",
              "      <td>2019-12-31 23:30:02</td>\n",
              "      <td>35.0</td>\n",
              "    </tr>\n",
              "  </tbody>\n",
              "</table>\n",
              "<p>725264 rows × 2 columns</p>\n",
              "</div>"
            ],
            "text/plain": [
              "               data_e_hora  tempo_de_fila\n",
              "0      2015-01-01 00:00:00            0.0\n",
              "1      2015-01-01 00:05:00            0.0\n",
              "2      2015-01-01 00:10:00            0.0\n",
              "3      2015-01-01 00:15:00            0.0\n",
              "4      2015-01-01 00:20:00            0.0\n",
              "...                    ...            ...\n",
              "211432 2019-12-31 22:58:02           45.0\n",
              "211433 2019-12-31 23:09:02           35.0\n",
              "211434 2019-12-31 23:16:02           35.0\n",
              "211435 2019-12-31 23:23:02           35.0\n",
              "211436 2019-12-31 23:30:02           35.0\n",
              "\n",
              "[725264 rows x 2 columns]"
            ]
          },
          "metadata": {
            "tags": []
          },
          "execution_count": 19
        }
      ]
    },
    {
      "cell_type": "markdown",
      "metadata": {
        "id": "4BvGmpJu10Mq"
      },
      "source": [
        "## <font color=green>3.3 Ordenando dados pela data e hora</font>\n",
        "***"
      ]
    },
    {
      "cell_type": "code",
      "metadata": {
        "id": "CC_42oTw1t7I"
      },
      "source": [
        "rrc_df.sort_values(by = ['data_e_hora'], inplace = True)"
      ],
      "execution_count": 20,
      "outputs": []
    },
    {
      "cell_type": "code",
      "metadata": {
        "colab": {
          "base_uri": "https://localhost:8080/",
          "height": 406
        },
        "id": "IGOcs-WW2HKc",
        "outputId": "2c5e8c0e-91cd-4918-d7d5-dcc5db3f4e7e"
      },
      "source": [
        "rrc_df"
      ],
      "execution_count": 21,
      "outputs": [
        {
          "output_type": "execute_result",
          "data": {
            "text/html": [
              "<div>\n",
              "<style scoped>\n",
              "    .dataframe tbody tr th:only-of-type {\n",
              "        vertical-align: middle;\n",
              "    }\n",
              "\n",
              "    .dataframe tbody tr th {\n",
              "        vertical-align: top;\n",
              "    }\n",
              "\n",
              "    .dataframe thead th {\n",
              "        text-align: right;\n",
              "    }\n",
              "</style>\n",
              "<table border=\"1\" class=\"dataframe\">\n",
              "  <thead>\n",
              "    <tr style=\"text-align: right;\">\n",
              "      <th></th>\n",
              "      <th>data_e_hora</th>\n",
              "      <th>tempo_de_fila</th>\n",
              "    </tr>\n",
              "  </thead>\n",
              "  <tbody>\n",
              "    <tr>\n",
              "      <th>0</th>\n",
              "      <td>2015-01-01 00:00:00</td>\n",
              "      <td>0.0</td>\n",
              "    </tr>\n",
              "    <tr>\n",
              "      <th>1</th>\n",
              "      <td>2015-01-01 00:05:00</td>\n",
              "      <td>0.0</td>\n",
              "    </tr>\n",
              "    <tr>\n",
              "      <th>2</th>\n",
              "      <td>2015-01-01 00:10:00</td>\n",
              "      <td>0.0</td>\n",
              "    </tr>\n",
              "    <tr>\n",
              "      <th>3</th>\n",
              "      <td>2015-01-01 00:15:00</td>\n",
              "      <td>0.0</td>\n",
              "    </tr>\n",
              "    <tr>\n",
              "      <th>4</th>\n",
              "      <td>2015-01-01 00:20:00</td>\n",
              "      <td>0.0</td>\n",
              "    </tr>\n",
              "    <tr>\n",
              "      <th>...</th>\n",
              "      <td>...</td>\n",
              "      <td>...</td>\n",
              "    </tr>\n",
              "    <tr>\n",
              "      <th>525883</th>\n",
              "      <td>2019-12-31 23:35:00</td>\n",
              "      <td>0.0</td>\n",
              "    </tr>\n",
              "    <tr>\n",
              "      <th>525884</th>\n",
              "      <td>2019-12-31 23:40:00</td>\n",
              "      <td>0.0</td>\n",
              "    </tr>\n",
              "    <tr>\n",
              "      <th>525885</th>\n",
              "      <td>2019-12-31 23:45:00</td>\n",
              "      <td>0.0</td>\n",
              "    </tr>\n",
              "    <tr>\n",
              "      <th>525886</th>\n",
              "      <td>2019-12-31 23:50:00</td>\n",
              "      <td>0.0</td>\n",
              "    </tr>\n",
              "    <tr>\n",
              "      <th>525887</th>\n",
              "      <td>2019-12-31 23:55:00</td>\n",
              "      <td>0.0</td>\n",
              "    </tr>\n",
              "  </tbody>\n",
              "</table>\n",
              "<p>725264 rows × 2 columns</p>\n",
              "</div>"
            ],
            "text/plain": [
              "               data_e_hora  tempo_de_fila\n",
              "0      2015-01-01 00:00:00            0.0\n",
              "1      2015-01-01 00:05:00            0.0\n",
              "2      2015-01-01 00:10:00            0.0\n",
              "3      2015-01-01 00:15:00            0.0\n",
              "4      2015-01-01 00:20:00            0.0\n",
              "...                    ...            ...\n",
              "525883 2019-12-31 23:35:00            0.0\n",
              "525884 2019-12-31 23:40:00            0.0\n",
              "525885 2019-12-31 23:45:00            0.0\n",
              "525886 2019-12-31 23:50:00            0.0\n",
              "525887 2019-12-31 23:55:00            0.0\n",
              "\n",
              "[725264 rows x 2 columns]"
            ]
          },
          "metadata": {
            "tags": []
          },
          "execution_count": 21
        }
      ]
    },
    {
      "cell_type": "markdown",
      "metadata": {
        "id": "_1I6vVt42nrL"
      },
      "source": [
        "## <font color=green>3.4 Reset Index</font>\n",
        "***"
      ]
    },
    {
      "cell_type": "code",
      "metadata": {
        "colab": {
          "base_uri": "https://localhost:8080/",
          "height": 406
        },
        "id": "Emv8k0tN2qxc",
        "outputId": "e71d775a-3ac1-4c01-ad10-0589621d3725"
      },
      "source": [
        "reset_index(rrc_df)"
      ],
      "execution_count": 22,
      "outputs": [
        {
          "output_type": "execute_result",
          "data": {
            "text/html": [
              "<div>\n",
              "<style scoped>\n",
              "    .dataframe tbody tr th:only-of-type {\n",
              "        vertical-align: middle;\n",
              "    }\n",
              "\n",
              "    .dataframe tbody tr th {\n",
              "        vertical-align: top;\n",
              "    }\n",
              "\n",
              "    .dataframe thead th {\n",
              "        text-align: right;\n",
              "    }\n",
              "</style>\n",
              "<table border=\"1\" class=\"dataframe\">\n",
              "  <thead>\n",
              "    <tr style=\"text-align: right;\">\n",
              "      <th></th>\n",
              "      <th>data_e_hora</th>\n",
              "      <th>tempo_de_fila</th>\n",
              "    </tr>\n",
              "  </thead>\n",
              "  <tbody>\n",
              "    <tr>\n",
              "      <th>0</th>\n",
              "      <td>2015-01-01 00:00:00</td>\n",
              "      <td>0.0</td>\n",
              "    </tr>\n",
              "    <tr>\n",
              "      <th>1</th>\n",
              "      <td>2015-01-01 00:05:00</td>\n",
              "      <td>0.0</td>\n",
              "    </tr>\n",
              "    <tr>\n",
              "      <th>2</th>\n",
              "      <td>2015-01-01 00:10:00</td>\n",
              "      <td>0.0</td>\n",
              "    </tr>\n",
              "    <tr>\n",
              "      <th>3</th>\n",
              "      <td>2015-01-01 00:15:00</td>\n",
              "      <td>0.0</td>\n",
              "    </tr>\n",
              "    <tr>\n",
              "      <th>4</th>\n",
              "      <td>2015-01-01 00:20:00</td>\n",
              "      <td>0.0</td>\n",
              "    </tr>\n",
              "    <tr>\n",
              "      <th>...</th>\n",
              "      <td>...</td>\n",
              "      <td>...</td>\n",
              "    </tr>\n",
              "    <tr>\n",
              "      <th>725259</th>\n",
              "      <td>2019-12-31 23:35:00</td>\n",
              "      <td>0.0</td>\n",
              "    </tr>\n",
              "    <tr>\n",
              "      <th>725260</th>\n",
              "      <td>2019-12-31 23:40:00</td>\n",
              "      <td>0.0</td>\n",
              "    </tr>\n",
              "    <tr>\n",
              "      <th>725261</th>\n",
              "      <td>2019-12-31 23:45:00</td>\n",
              "      <td>0.0</td>\n",
              "    </tr>\n",
              "    <tr>\n",
              "      <th>725262</th>\n",
              "      <td>2019-12-31 23:50:00</td>\n",
              "      <td>0.0</td>\n",
              "    </tr>\n",
              "    <tr>\n",
              "      <th>725263</th>\n",
              "      <td>2019-12-31 23:55:00</td>\n",
              "      <td>0.0</td>\n",
              "    </tr>\n",
              "  </tbody>\n",
              "</table>\n",
              "<p>725264 rows × 2 columns</p>\n",
              "</div>"
            ],
            "text/plain": [
              "               data_e_hora  tempo_de_fila\n",
              "0      2015-01-01 00:00:00            0.0\n",
              "1      2015-01-01 00:05:00            0.0\n",
              "2      2015-01-01 00:10:00            0.0\n",
              "3      2015-01-01 00:15:00            0.0\n",
              "4      2015-01-01 00:20:00            0.0\n",
              "...                    ...            ...\n",
              "725259 2019-12-31 23:35:00            0.0\n",
              "725260 2019-12-31 23:40:00            0.0\n",
              "725261 2019-12-31 23:45:00            0.0\n",
              "725262 2019-12-31 23:50:00            0.0\n",
              "725263 2019-12-31 23:55:00            0.0\n",
              "\n",
              "[725264 rows x 2 columns]"
            ]
          },
          "metadata": {
            "tags": []
          },
          "execution_count": 22
        }
      ]
    },
    {
      "cell_type": "markdown",
      "metadata": {
        "id": "C1W7rQC93KmS"
      },
      "source": [
        "## <font color=green>3.5 Apagando linhas</font>\n",
        "***"
      ]
    },
    {
      "cell_type": "markdown",
      "metadata": {
        "id": "NzgWOOhn3Q3r"
      },
      "source": [
        "#### <font color='red'>Observação</font>\n",
        "***\n",
        "> Esse passo é necessário pois ao misturar os dataframes base e dados, em meio aos dados, existem algumas linhas com valores iguais a zero, vindas do dataframe de base. Neste passo, iremos criar uma coluna 'apagar' que receberá valores booleanos. Se o campo em que o algoritmo analisar cumprir uma das condições, este será deletado."
      ]
    },
    {
      "cell_type": "code",
      "metadata": {
        "id": "k6lpW0dQ2wGl"
      },
      "source": [
        "rrc_df['apagar'] = 0"
      ],
      "execution_count": 23,
      "outputs": []
    },
    {
      "cell_type": "code",
      "metadata": {
        "colab": {
          "base_uri": "https://localhost:8080/",
          "height": 406
        },
        "id": "0-waYDJy3-BD",
        "outputId": "37f4f9c4-3458-424f-a9b1-d0f698fedddd"
      },
      "source": [
        "rrc_df"
      ],
      "execution_count": 24,
      "outputs": [
        {
          "output_type": "execute_result",
          "data": {
            "text/html": [
              "<div>\n",
              "<style scoped>\n",
              "    .dataframe tbody tr th:only-of-type {\n",
              "        vertical-align: middle;\n",
              "    }\n",
              "\n",
              "    .dataframe tbody tr th {\n",
              "        vertical-align: top;\n",
              "    }\n",
              "\n",
              "    .dataframe thead th {\n",
              "        text-align: right;\n",
              "    }\n",
              "</style>\n",
              "<table border=\"1\" class=\"dataframe\">\n",
              "  <thead>\n",
              "    <tr style=\"text-align: right;\">\n",
              "      <th></th>\n",
              "      <th>data_e_hora</th>\n",
              "      <th>tempo_de_fila</th>\n",
              "      <th>apagar</th>\n",
              "    </tr>\n",
              "  </thead>\n",
              "  <tbody>\n",
              "    <tr>\n",
              "      <th>0</th>\n",
              "      <td>2015-01-01 00:00:00</td>\n",
              "      <td>0.0</td>\n",
              "      <td>0</td>\n",
              "    </tr>\n",
              "    <tr>\n",
              "      <th>1</th>\n",
              "      <td>2015-01-01 00:05:00</td>\n",
              "      <td>0.0</td>\n",
              "      <td>0</td>\n",
              "    </tr>\n",
              "    <tr>\n",
              "      <th>2</th>\n",
              "      <td>2015-01-01 00:10:00</td>\n",
              "      <td>0.0</td>\n",
              "      <td>0</td>\n",
              "    </tr>\n",
              "    <tr>\n",
              "      <th>3</th>\n",
              "      <td>2015-01-01 00:15:00</td>\n",
              "      <td>0.0</td>\n",
              "      <td>0</td>\n",
              "    </tr>\n",
              "    <tr>\n",
              "      <th>4</th>\n",
              "      <td>2015-01-01 00:20:00</td>\n",
              "      <td>0.0</td>\n",
              "      <td>0</td>\n",
              "    </tr>\n",
              "    <tr>\n",
              "      <th>...</th>\n",
              "      <td>...</td>\n",
              "      <td>...</td>\n",
              "      <td>...</td>\n",
              "    </tr>\n",
              "    <tr>\n",
              "      <th>725259</th>\n",
              "      <td>2019-12-31 23:35:00</td>\n",
              "      <td>0.0</td>\n",
              "      <td>0</td>\n",
              "    </tr>\n",
              "    <tr>\n",
              "      <th>725260</th>\n",
              "      <td>2019-12-31 23:40:00</td>\n",
              "      <td>0.0</td>\n",
              "      <td>0</td>\n",
              "    </tr>\n",
              "    <tr>\n",
              "      <th>725261</th>\n",
              "      <td>2019-12-31 23:45:00</td>\n",
              "      <td>0.0</td>\n",
              "      <td>0</td>\n",
              "    </tr>\n",
              "    <tr>\n",
              "      <th>725262</th>\n",
              "      <td>2019-12-31 23:50:00</td>\n",
              "      <td>0.0</td>\n",
              "      <td>0</td>\n",
              "    </tr>\n",
              "    <tr>\n",
              "      <th>725263</th>\n",
              "      <td>2019-12-31 23:55:00</td>\n",
              "      <td>0.0</td>\n",
              "      <td>0</td>\n",
              "    </tr>\n",
              "  </tbody>\n",
              "</table>\n",
              "<p>725264 rows × 3 columns</p>\n",
              "</div>"
            ],
            "text/plain": [
              "               data_e_hora  tempo_de_fila  apagar\n",
              "0      2015-01-01 00:00:00            0.0       0\n",
              "1      2015-01-01 00:05:00            0.0       0\n",
              "2      2015-01-01 00:10:00            0.0       0\n",
              "3      2015-01-01 00:15:00            0.0       0\n",
              "4      2015-01-01 00:20:00            0.0       0\n",
              "...                    ...            ...     ...\n",
              "725259 2019-12-31 23:35:00            0.0       0\n",
              "725260 2019-12-31 23:40:00            0.0       0\n",
              "725261 2019-12-31 23:45:00            0.0       0\n",
              "725262 2019-12-31 23:50:00            0.0       0\n",
              "725263 2019-12-31 23:55:00            0.0       0\n",
              "\n",
              "[725264 rows x 3 columns]"
            ]
          },
          "metadata": {
            "tags": []
          },
          "execution_count": 24
        }
      ]
    },
    {
      "cell_type": "markdown",
      "metadata": {
        "id": "1NNM2vIu4m6z"
      },
      "source": [
        "A condição para uma linha ser deletada é se, primeiro, o valor do tempo de fila dela for igual à zero, e se um dos dois valores seguintes ou dois valores anteriores de tempos de fila for diferente de zero. Ou seja, caso os quatro sejam iguais à zero, a linha permanece. Mas se apenas um deles for diferente de zero, a linha é deletada."
      ]
    },
    {
      "cell_type": "code",
      "metadata": {
        "colab": {
          "base_uri": "https://localhost:8080/"
        },
        "id": "TiY1DW2h3_aj",
        "outputId": "3cd7eda2-85df-47f0-c565-60a921b0842e"
      },
      "source": [
        "for i in range(0,len(rrc_df)):\n",
        "    if 1 < i < len(rrc_df) - 2:\n",
        "      if (rrc_df.tempo_de_fila[i] == 0):\n",
        "        c1 = (rrc_df.tempo_de_fila[i + 1] != 0)\n",
        "        c2 = (rrc_df.tempo_de_fila[i - 1] != 0)\n",
        "        c3 = (rrc_df.tempo_de_fila[i + 2] != 0)\n",
        "        c4 = (rrc_df.tempo_de_fila[i - 2] != 0)\n",
        "        if c1 or c2 or c3 or c4:\n",
        "          rrc_df.apagar[i] = 1\n"
      ],
      "execution_count": 25,
      "outputs": [
        {
          "output_type": "stream",
          "text": [
            "/usr/local/lib/python3.7/dist-packages/ipykernel_launcher.py:9: SettingWithCopyWarning: \n",
            "A value is trying to be set on a copy of a slice from a DataFrame\n",
            "\n",
            "See the caveats in the documentation: https://pandas.pydata.org/pandas-docs/stable/user_guide/indexing.html#returning-a-view-versus-a-copy\n",
            "  if __name__ == '__main__':\n"
          ],
          "name": "stderr"
        }
      ]
    },
    {
      "cell_type": "markdown",
      "metadata": {
        "id": "kJN7nYp55p8_"
      },
      "source": [
        "Essa seleção pode ser notada logo no final da série de dados:"
      ]
    },
    {
      "cell_type": "code",
      "metadata": {
        "colab": {
          "base_uri": "https://localhost:8080/",
          "height": 347
        },
        "id": "WhWHqhdA4Q-W",
        "outputId": "17ba7b8e-6ba9-4bfb-a4d7-1f10753c2949"
      },
      "source": [
        "rrc_df.tail(10)"
      ],
      "execution_count": 27,
      "outputs": [
        {
          "output_type": "execute_result",
          "data": {
            "text/html": [
              "<div>\n",
              "<style scoped>\n",
              "    .dataframe tbody tr th:only-of-type {\n",
              "        vertical-align: middle;\n",
              "    }\n",
              "\n",
              "    .dataframe tbody tr th {\n",
              "        vertical-align: top;\n",
              "    }\n",
              "\n",
              "    .dataframe thead th {\n",
              "        text-align: right;\n",
              "    }\n",
              "</style>\n",
              "<table border=\"1\" class=\"dataframe\">\n",
              "  <thead>\n",
              "    <tr style=\"text-align: right;\">\n",
              "      <th></th>\n",
              "      <th>data_e_hora</th>\n",
              "      <th>tempo_de_fila</th>\n",
              "      <th>apagar</th>\n",
              "    </tr>\n",
              "  </thead>\n",
              "  <tbody>\n",
              "    <tr>\n",
              "      <th>725254</th>\n",
              "      <td>2019-12-31 23:20:00</td>\n",
              "      <td>0.0</td>\n",
              "      <td>1</td>\n",
              "    </tr>\n",
              "    <tr>\n",
              "      <th>725255</th>\n",
              "      <td>2019-12-31 23:23:02</td>\n",
              "      <td>35.0</td>\n",
              "      <td>0</td>\n",
              "    </tr>\n",
              "    <tr>\n",
              "      <th>725256</th>\n",
              "      <td>2019-12-31 23:25:00</td>\n",
              "      <td>0.0</td>\n",
              "      <td>1</td>\n",
              "    </tr>\n",
              "    <tr>\n",
              "      <th>725257</th>\n",
              "      <td>2019-12-31 23:30:00</td>\n",
              "      <td>0.0</td>\n",
              "      <td>1</td>\n",
              "    </tr>\n",
              "    <tr>\n",
              "      <th>725258</th>\n",
              "      <td>2019-12-31 23:30:02</td>\n",
              "      <td>35.0</td>\n",
              "      <td>0</td>\n",
              "    </tr>\n",
              "    <tr>\n",
              "      <th>725259</th>\n",
              "      <td>2019-12-31 23:35:00</td>\n",
              "      <td>0.0</td>\n",
              "      <td>1</td>\n",
              "    </tr>\n",
              "    <tr>\n",
              "      <th>725260</th>\n",
              "      <td>2019-12-31 23:40:00</td>\n",
              "      <td>0.0</td>\n",
              "      <td>1</td>\n",
              "    </tr>\n",
              "    <tr>\n",
              "      <th>725261</th>\n",
              "      <td>2019-12-31 23:45:00</td>\n",
              "      <td>0.0</td>\n",
              "      <td>0</td>\n",
              "    </tr>\n",
              "    <tr>\n",
              "      <th>725262</th>\n",
              "      <td>2019-12-31 23:50:00</td>\n",
              "      <td>0.0</td>\n",
              "      <td>0</td>\n",
              "    </tr>\n",
              "    <tr>\n",
              "      <th>725263</th>\n",
              "      <td>2019-12-31 23:55:00</td>\n",
              "      <td>0.0</td>\n",
              "      <td>0</td>\n",
              "    </tr>\n",
              "  </tbody>\n",
              "</table>\n",
              "</div>"
            ],
            "text/plain": [
              "               data_e_hora  tempo_de_fila  apagar\n",
              "725254 2019-12-31 23:20:00            0.0       1\n",
              "725255 2019-12-31 23:23:02           35.0       0\n",
              "725256 2019-12-31 23:25:00            0.0       1\n",
              "725257 2019-12-31 23:30:00            0.0       1\n",
              "725258 2019-12-31 23:30:02           35.0       0\n",
              "725259 2019-12-31 23:35:00            0.0       1\n",
              "725260 2019-12-31 23:40:00            0.0       1\n",
              "725261 2019-12-31 23:45:00            0.0       0\n",
              "725262 2019-12-31 23:50:00            0.0       0\n",
              "725263 2019-12-31 23:55:00            0.0       0"
            ]
          },
          "metadata": {
            "tags": []
          },
          "execution_count": 27
        }
      ]
    },
    {
      "cell_type": "markdown",
      "metadata": {
        "id": "4YPUc2Ba593C"
      },
      "source": [
        "Feita a seleção, agora basta apenas filtrar o dataframe."
      ]
    },
    {
      "cell_type": "code",
      "metadata": {
        "id": "HKXbYjl24kz6"
      },
      "source": [
        "filtro2 = rrc_df.apagar == 0 \n",
        "rrc_df = rrc_df[filtro2]"
      ],
      "execution_count": 28,
      "outputs": []
    },
    {
      "cell_type": "markdown",
      "metadata": {
        "id": "yoL8gzoK6OMN"
      },
      "source": [
        "Podemos notar que o filtro foi aplicado com sucesso:"
      ]
    },
    {
      "cell_type": "code",
      "metadata": {
        "colab": {
          "base_uri": "https://localhost:8080/",
          "height": 347
        },
        "id": "M5ZRJABK6Lj1",
        "outputId": "c77aecce-8e80-498a-c52b-9bf9bdae10ac"
      },
      "source": [
        "rrc_df.tail(10)"
      ],
      "execution_count": 29,
      "outputs": [
        {
          "output_type": "execute_result",
          "data": {
            "text/html": [
              "<div>\n",
              "<style scoped>\n",
              "    .dataframe tbody tr th:only-of-type {\n",
              "        vertical-align: middle;\n",
              "    }\n",
              "\n",
              "    .dataframe tbody tr th {\n",
              "        vertical-align: top;\n",
              "    }\n",
              "\n",
              "    .dataframe thead th {\n",
              "        text-align: right;\n",
              "    }\n",
              "</style>\n",
              "<table border=\"1\" class=\"dataframe\">\n",
              "  <thead>\n",
              "    <tr style=\"text-align: right;\">\n",
              "      <th></th>\n",
              "      <th>data_e_hora</th>\n",
              "      <th>tempo_de_fila</th>\n",
              "      <th>apagar</th>\n",
              "    </tr>\n",
              "  </thead>\n",
              "  <tbody>\n",
              "    <tr>\n",
              "      <th>725242</th>\n",
              "      <td>2019-12-31 22:44:01</td>\n",
              "      <td>60.0</td>\n",
              "      <td>0</td>\n",
              "    </tr>\n",
              "    <tr>\n",
              "      <th>725245</th>\n",
              "      <td>2019-12-31 22:51:02</td>\n",
              "      <td>45.0</td>\n",
              "      <td>0</td>\n",
              "    </tr>\n",
              "    <tr>\n",
              "      <th>725247</th>\n",
              "      <td>2019-12-31 22:58:02</td>\n",
              "      <td>45.0</td>\n",
              "      <td>0</td>\n",
              "    </tr>\n",
              "    <tr>\n",
              "      <th>725250</th>\n",
              "      <td>2019-12-31 23:09:02</td>\n",
              "      <td>35.0</td>\n",
              "      <td>0</td>\n",
              "    </tr>\n",
              "    <tr>\n",
              "      <th>725253</th>\n",
              "      <td>2019-12-31 23:16:02</td>\n",
              "      <td>35.0</td>\n",
              "      <td>0</td>\n",
              "    </tr>\n",
              "    <tr>\n",
              "      <th>725255</th>\n",
              "      <td>2019-12-31 23:23:02</td>\n",
              "      <td>35.0</td>\n",
              "      <td>0</td>\n",
              "    </tr>\n",
              "    <tr>\n",
              "      <th>725258</th>\n",
              "      <td>2019-12-31 23:30:02</td>\n",
              "      <td>35.0</td>\n",
              "      <td>0</td>\n",
              "    </tr>\n",
              "    <tr>\n",
              "      <th>725261</th>\n",
              "      <td>2019-12-31 23:45:00</td>\n",
              "      <td>0.0</td>\n",
              "      <td>0</td>\n",
              "    </tr>\n",
              "    <tr>\n",
              "      <th>725262</th>\n",
              "      <td>2019-12-31 23:50:00</td>\n",
              "      <td>0.0</td>\n",
              "      <td>0</td>\n",
              "    </tr>\n",
              "    <tr>\n",
              "      <th>725263</th>\n",
              "      <td>2019-12-31 23:55:00</td>\n",
              "      <td>0.0</td>\n",
              "      <td>0</td>\n",
              "    </tr>\n",
              "  </tbody>\n",
              "</table>\n",
              "</div>"
            ],
            "text/plain": [
              "               data_e_hora  tempo_de_fila  apagar\n",
              "725242 2019-12-31 22:44:01           60.0       0\n",
              "725245 2019-12-31 22:51:02           45.0       0\n",
              "725247 2019-12-31 22:58:02           45.0       0\n",
              "725250 2019-12-31 23:09:02           35.0       0\n",
              "725253 2019-12-31 23:16:02           35.0       0\n",
              "725255 2019-12-31 23:23:02           35.0       0\n",
              "725258 2019-12-31 23:30:02           35.0       0\n",
              "725261 2019-12-31 23:45:00            0.0       0\n",
              "725262 2019-12-31 23:50:00            0.0       0\n",
              "725263 2019-12-31 23:55:00            0.0       0"
            ]
          },
          "metadata": {
            "tags": []
          },
          "execution_count": 29
        }
      ]
    },
    {
      "cell_type": "markdown",
      "metadata": {
        "id": "NaM2PoyC6WK-"
      },
      "source": [
        "## <font color=green>3.6 Reset Index e deletando a coluna 'apagar'</font>\n",
        "***"
      ]
    },
    {
      "cell_type": "code",
      "metadata": {
        "colab": {
          "base_uri": "https://localhost:8080/",
          "height": 406
        },
        "id": "HDsZgGj96M6k",
        "outputId": "2104418e-74fc-432c-aa25-75502a70222c"
      },
      "source": [
        "reset_index(rrc_df)"
      ],
      "execution_count": 30,
      "outputs": [
        {
          "output_type": "execute_result",
          "data": {
            "text/html": [
              "<div>\n",
              "<style scoped>\n",
              "    .dataframe tbody tr th:only-of-type {\n",
              "        vertical-align: middle;\n",
              "    }\n",
              "\n",
              "    .dataframe tbody tr th {\n",
              "        vertical-align: top;\n",
              "    }\n",
              "\n",
              "    .dataframe thead th {\n",
              "        text-align: right;\n",
              "    }\n",
              "</style>\n",
              "<table border=\"1\" class=\"dataframe\">\n",
              "  <thead>\n",
              "    <tr style=\"text-align: right;\">\n",
              "      <th></th>\n",
              "      <th>data_e_hora</th>\n",
              "      <th>tempo_de_fila</th>\n",
              "      <th>apagar</th>\n",
              "    </tr>\n",
              "  </thead>\n",
              "  <tbody>\n",
              "    <tr>\n",
              "      <th>0</th>\n",
              "      <td>2015-01-01 00:00:00</td>\n",
              "      <td>0.0</td>\n",
              "      <td>0</td>\n",
              "    </tr>\n",
              "    <tr>\n",
              "      <th>1</th>\n",
              "      <td>2015-01-01 00:05:00</td>\n",
              "      <td>0.0</td>\n",
              "      <td>0</td>\n",
              "    </tr>\n",
              "    <tr>\n",
              "      <th>2</th>\n",
              "      <td>2015-01-01 00:10:00</td>\n",
              "      <td>0.0</td>\n",
              "      <td>0</td>\n",
              "    </tr>\n",
              "    <tr>\n",
              "      <th>3</th>\n",
              "      <td>2015-01-01 00:15:00</td>\n",
              "      <td>0.0</td>\n",
              "      <td>0</td>\n",
              "    </tr>\n",
              "    <tr>\n",
              "      <th>4</th>\n",
              "      <td>2015-01-01 00:20:00</td>\n",
              "      <td>0.0</td>\n",
              "      <td>0</td>\n",
              "    </tr>\n",
              "    <tr>\n",
              "      <th>...</th>\n",
              "      <td>...</td>\n",
              "      <td>...</td>\n",
              "      <td>...</td>\n",
              "    </tr>\n",
              "    <tr>\n",
              "      <th>455491</th>\n",
              "      <td>2019-12-31 23:23:02</td>\n",
              "      <td>35.0</td>\n",
              "      <td>0</td>\n",
              "    </tr>\n",
              "    <tr>\n",
              "      <th>455492</th>\n",
              "      <td>2019-12-31 23:30:02</td>\n",
              "      <td>35.0</td>\n",
              "      <td>0</td>\n",
              "    </tr>\n",
              "    <tr>\n",
              "      <th>455493</th>\n",
              "      <td>2019-12-31 23:45:00</td>\n",
              "      <td>0.0</td>\n",
              "      <td>0</td>\n",
              "    </tr>\n",
              "    <tr>\n",
              "      <th>455494</th>\n",
              "      <td>2019-12-31 23:50:00</td>\n",
              "      <td>0.0</td>\n",
              "      <td>0</td>\n",
              "    </tr>\n",
              "    <tr>\n",
              "      <th>455495</th>\n",
              "      <td>2019-12-31 23:55:00</td>\n",
              "      <td>0.0</td>\n",
              "      <td>0</td>\n",
              "    </tr>\n",
              "  </tbody>\n",
              "</table>\n",
              "<p>455496 rows × 3 columns</p>\n",
              "</div>"
            ],
            "text/plain": [
              "               data_e_hora  tempo_de_fila  apagar\n",
              "0      2015-01-01 00:00:00            0.0       0\n",
              "1      2015-01-01 00:05:00            0.0       0\n",
              "2      2015-01-01 00:10:00            0.0       0\n",
              "3      2015-01-01 00:15:00            0.0       0\n",
              "4      2015-01-01 00:20:00            0.0       0\n",
              "...                    ...            ...     ...\n",
              "455491 2019-12-31 23:23:02           35.0       0\n",
              "455492 2019-12-31 23:30:02           35.0       0\n",
              "455493 2019-12-31 23:45:00            0.0       0\n",
              "455494 2019-12-31 23:50:00            0.0       0\n",
              "455495 2019-12-31 23:55:00            0.0       0\n",
              "\n",
              "[455496 rows x 3 columns]"
            ]
          },
          "metadata": {
            "tags": []
          },
          "execution_count": 30
        }
      ]
    },
    {
      "cell_type": "code",
      "metadata": {
        "colab": {
          "base_uri": "https://localhost:8080/"
        },
        "id": "UN8acSup6krR",
        "outputId": "09970dc1-cae4-404c-d42f-58267c85415a"
      },
      "source": [
        "rrc_df.drop(columns = ['apagar'], inplace = True)"
      ],
      "execution_count": 31,
      "outputs": [
        {
          "output_type": "stream",
          "text": [
            "/usr/local/lib/python3.7/dist-packages/pandas/core/frame.py:4174: SettingWithCopyWarning: \n",
            "A value is trying to be set on a copy of a slice from a DataFrame\n",
            "\n",
            "See the caveats in the documentation: https://pandas.pydata.org/pandas-docs/stable/user_guide/indexing.html#returning-a-view-versus-a-copy\n",
            "  errors=errors,\n"
          ],
          "name": "stderr"
        }
      ]
    },
    {
      "cell_type": "code",
      "metadata": {
        "colab": {
          "base_uri": "https://localhost:8080/",
          "height": 406
        },
        "id": "w7rH4agq6qSS",
        "outputId": "0144e2db-d008-430c-d593-beb5c9d509a8"
      },
      "source": [
        "rrc_df"
      ],
      "execution_count": 32,
      "outputs": [
        {
          "output_type": "execute_result",
          "data": {
            "text/html": [
              "<div>\n",
              "<style scoped>\n",
              "    .dataframe tbody tr th:only-of-type {\n",
              "        vertical-align: middle;\n",
              "    }\n",
              "\n",
              "    .dataframe tbody tr th {\n",
              "        vertical-align: top;\n",
              "    }\n",
              "\n",
              "    .dataframe thead th {\n",
              "        text-align: right;\n",
              "    }\n",
              "</style>\n",
              "<table border=\"1\" class=\"dataframe\">\n",
              "  <thead>\n",
              "    <tr style=\"text-align: right;\">\n",
              "      <th></th>\n",
              "      <th>data_e_hora</th>\n",
              "      <th>tempo_de_fila</th>\n",
              "    </tr>\n",
              "  </thead>\n",
              "  <tbody>\n",
              "    <tr>\n",
              "      <th>0</th>\n",
              "      <td>2015-01-01 00:00:00</td>\n",
              "      <td>0.0</td>\n",
              "    </tr>\n",
              "    <tr>\n",
              "      <th>1</th>\n",
              "      <td>2015-01-01 00:05:00</td>\n",
              "      <td>0.0</td>\n",
              "    </tr>\n",
              "    <tr>\n",
              "      <th>2</th>\n",
              "      <td>2015-01-01 00:10:00</td>\n",
              "      <td>0.0</td>\n",
              "    </tr>\n",
              "    <tr>\n",
              "      <th>3</th>\n",
              "      <td>2015-01-01 00:15:00</td>\n",
              "      <td>0.0</td>\n",
              "    </tr>\n",
              "    <tr>\n",
              "      <th>4</th>\n",
              "      <td>2015-01-01 00:20:00</td>\n",
              "      <td>0.0</td>\n",
              "    </tr>\n",
              "    <tr>\n",
              "      <th>...</th>\n",
              "      <td>...</td>\n",
              "      <td>...</td>\n",
              "    </tr>\n",
              "    <tr>\n",
              "      <th>455491</th>\n",
              "      <td>2019-12-31 23:23:02</td>\n",
              "      <td>35.0</td>\n",
              "    </tr>\n",
              "    <tr>\n",
              "      <th>455492</th>\n",
              "      <td>2019-12-31 23:30:02</td>\n",
              "      <td>35.0</td>\n",
              "    </tr>\n",
              "    <tr>\n",
              "      <th>455493</th>\n",
              "      <td>2019-12-31 23:45:00</td>\n",
              "      <td>0.0</td>\n",
              "    </tr>\n",
              "    <tr>\n",
              "      <th>455494</th>\n",
              "      <td>2019-12-31 23:50:00</td>\n",
              "      <td>0.0</td>\n",
              "    </tr>\n",
              "    <tr>\n",
              "      <th>455495</th>\n",
              "      <td>2019-12-31 23:55:00</td>\n",
              "      <td>0.0</td>\n",
              "    </tr>\n",
              "  </tbody>\n",
              "</table>\n",
              "<p>455496 rows × 2 columns</p>\n",
              "</div>"
            ],
            "text/plain": [
              "               data_e_hora  tempo_de_fila\n",
              "0      2015-01-01 00:00:00            0.0\n",
              "1      2015-01-01 00:05:00            0.0\n",
              "2      2015-01-01 00:10:00            0.0\n",
              "3      2015-01-01 00:15:00            0.0\n",
              "4      2015-01-01 00:20:00            0.0\n",
              "...                    ...            ...\n",
              "455491 2019-12-31 23:23:02           35.0\n",
              "455492 2019-12-31 23:30:02           35.0\n",
              "455493 2019-12-31 23:45:00            0.0\n",
              "455494 2019-12-31 23:50:00            0.0\n",
              "455495 2019-12-31 23:55:00            0.0\n",
              "\n",
              "[455496 rows x 2 columns]"
            ]
          },
          "metadata": {
            "tags": []
          },
          "execution_count": 32
        }
      ]
    },
    {
      "cell_type": "markdown",
      "metadata": {
        "id": "qML24EUW7RQK"
      },
      "source": [
        "## <font color=green>3.7 Interpolação dos tempos de fila</font>\n",
        "***"
      ]
    },
    {
      "cell_type": "code",
      "metadata": {
        "id": "R_6LtdPo6sRK"
      },
      "source": [
        "X_interp = base.data_e_hora\n",
        "X = rrc_df.data_e_hora\n",
        "Y = rrc_df.tempo_de_fila\n",
        "\n",
        "Y_interp = np.interp(X_interp, X, Y)"
      ],
      "execution_count": 33,
      "outputs": []
    },
    {
      "cell_type": "markdown",
      "metadata": {
        "id": "bRNOvA7S7oYW"
      },
      "source": [
        "## <font color=green>3.8 Criação do dataframe final</font>\n",
        "***"
      ]
    },
    {
      "cell_type": "code",
      "metadata": {
        "id": "rao4Igag7kDl"
      },
      "source": [
        "RocknRollerCoaster = pd.DataFrame(index = range(0,n_observacoes), \n",
        "                                  columns = ['data_e_hora', 'tempo_de_fila'])\n",
        "RocknRollerCoaster['data_e_hora'] = instantes_5_em_5\n",
        "RocknRollerCoaster['tempo_de_fila'] = np.around(Y_interp)"
      ],
      "execution_count": 37,
      "outputs": []
    },
    {
      "cell_type": "code",
      "metadata": {
        "colab": {
          "base_uri": "https://localhost:8080/",
          "height": 406
        },
        "id": "ab_i5pdL7lNN",
        "outputId": "c6a61cce-382c-4edb-d54b-16352eac5251"
      },
      "source": [
        "RocknRollerCoaster"
      ],
      "execution_count": 38,
      "outputs": [
        {
          "output_type": "execute_result",
          "data": {
            "text/html": [
              "<div>\n",
              "<style scoped>\n",
              "    .dataframe tbody tr th:only-of-type {\n",
              "        vertical-align: middle;\n",
              "    }\n",
              "\n",
              "    .dataframe tbody tr th {\n",
              "        vertical-align: top;\n",
              "    }\n",
              "\n",
              "    .dataframe thead th {\n",
              "        text-align: right;\n",
              "    }\n",
              "</style>\n",
              "<table border=\"1\" class=\"dataframe\">\n",
              "  <thead>\n",
              "    <tr style=\"text-align: right;\">\n",
              "      <th></th>\n",
              "      <th>data_e_hora</th>\n",
              "      <th>tempo_de_fila</th>\n",
              "    </tr>\n",
              "  </thead>\n",
              "  <tbody>\n",
              "    <tr>\n",
              "      <th>0</th>\n",
              "      <td>2015-01-01 00:00:00</td>\n",
              "      <td>0.0</td>\n",
              "    </tr>\n",
              "    <tr>\n",
              "      <th>1</th>\n",
              "      <td>2015-01-01 00:05:00</td>\n",
              "      <td>0.0</td>\n",
              "    </tr>\n",
              "    <tr>\n",
              "      <th>2</th>\n",
              "      <td>2015-01-01 00:10:00</td>\n",
              "      <td>0.0</td>\n",
              "    </tr>\n",
              "    <tr>\n",
              "      <th>3</th>\n",
              "      <td>2015-01-01 00:15:00</td>\n",
              "      <td>0.0</td>\n",
              "    </tr>\n",
              "    <tr>\n",
              "      <th>4</th>\n",
              "      <td>2015-01-01 00:20:00</td>\n",
              "      <td>0.0</td>\n",
              "    </tr>\n",
              "    <tr>\n",
              "      <th>...</th>\n",
              "      <td>...</td>\n",
              "      <td>...</td>\n",
              "    </tr>\n",
              "    <tr>\n",
              "      <th>525883</th>\n",
              "      <td>2019-12-31 23:35:00</td>\n",
              "      <td>23.0</td>\n",
              "    </tr>\n",
              "    <tr>\n",
              "      <th>525884</th>\n",
              "      <td>2019-12-31 23:40:00</td>\n",
              "      <td>12.0</td>\n",
              "    </tr>\n",
              "    <tr>\n",
              "      <th>525885</th>\n",
              "      <td>2019-12-31 23:45:00</td>\n",
              "      <td>0.0</td>\n",
              "    </tr>\n",
              "    <tr>\n",
              "      <th>525886</th>\n",
              "      <td>2019-12-31 23:50:00</td>\n",
              "      <td>0.0</td>\n",
              "    </tr>\n",
              "    <tr>\n",
              "      <th>525887</th>\n",
              "      <td>2019-12-31 23:55:00</td>\n",
              "      <td>0.0</td>\n",
              "    </tr>\n",
              "  </tbody>\n",
              "</table>\n",
              "<p>525888 rows × 2 columns</p>\n",
              "</div>"
            ],
            "text/plain": [
              "               data_e_hora  tempo_de_fila\n",
              "0      2015-01-01 00:00:00            0.0\n",
              "1      2015-01-01 00:05:00            0.0\n",
              "2      2015-01-01 00:10:00            0.0\n",
              "3      2015-01-01 00:15:00            0.0\n",
              "4      2015-01-01 00:20:00            0.0\n",
              "...                    ...            ...\n",
              "525883 2019-12-31 23:35:00           23.0\n",
              "525884 2019-12-31 23:40:00           12.0\n",
              "525885 2019-12-31 23:45:00            0.0\n",
              "525886 2019-12-31 23:50:00            0.0\n",
              "525887 2019-12-31 23:55:00            0.0\n",
              "\n",
              "[525888 rows x 2 columns]"
            ]
          },
          "metadata": {
            "tags": []
          },
          "execution_count": 38
        }
      ]
    },
    {
      "cell_type": "markdown",
      "metadata": {
        "id": "qtIkE40O-vs8"
      },
      "source": [
        ""
      ]
    },
    {
      "cell_type": "code",
      "metadata": {
        "id": "Q1ATmXD778iC"
      },
      "source": [
        ""
      ],
      "execution_count": null,
      "outputs": []
    }
  ]
}